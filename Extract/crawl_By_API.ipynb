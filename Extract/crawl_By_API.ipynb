{
 "cells": [
  {
   "cell_type": "markdown",
   "metadata": {},
   "source": [
    "# 1. Thư viện"
   ]
  },
  {
   "cell_type": "code",
   "execution_count": 1,
   "metadata": {},
   "outputs": [],
   "source": [
    "import os\n",
    "import pandas as pd\n",
    "import requests"
   ]
  },
  {
   "cell_type": "markdown",
   "metadata": {},
   "source": [
    "# 2. Thực thi"
   ]
  },
  {
   "cell_type": "code",
   "execution_count": 2,
   "metadata": {},
   "outputs": [],
   "source": [
    "# Hàm lưu dữ liệu vào file CSV\n",
    "def save_to_csv(data, filename):\n",
    "    # Tạo DataFrame từ dữ liệu\n",
    "    df = pd.DataFrame(data)\n",
    "    \n",
    "    # Kiểm tra nếu file đã tồn tại\n",
    "    file_exists = os.path.isfile(filename)\n",
    "    \n",
    "    # Nếu file chưa tồn tại, tạo một file mới với tiêu đề cột cụ thể\n",
    "    if not file_exists:\n",
    "        # Tạo một DataFrame với các tiêu đề cột cụ thể\n",
    "        df_empty = pd.DataFrame(columns=['albumId', 'id', 'title', 'url', 'thumbnailUrl'])\n",
    "        # Ghi tiêu đề cột vào file CSV\n",
    "        df_empty.to_csv(filename, index=False, encoding='utf-8')\n",
    "    \n",
    "    # Ghi dữ liệu vào file CSV\n",
    "    df.to_csv(filename, mode='a', header=False, index=False, encoding='utf-8')"
   ]
  },
  {
   "cell_type": "code",
   "execution_count": 3,
   "metadata": {},
   "outputs": [],
   "source": [
    "# URL của API\n",
    "url = \"https://jsonplaceholder.typicode.com/photos\"\n",
    "\n",
    "# Gửi yêu cầu GET tới API và lấy dữ liệu\n",
    "response = requests.get(url)\n",
    "data = response.json()"
   ]
  },
  {
   "cell_type": "code",
   "execution_count": 4,
   "metadata": {},
   "outputs": [
    {
     "name": "stdout",
     "output_type": "stream",
     "text": [
      "Dữ liệu đã được lưu vào file CSV thành công.\n"
     ]
    }
   ],
   "source": [
    "# Đường dẫn đến file CSV\n",
    "csv_file_path = r\"api_Photos_jsonplaceholder.csv\"\n",
    "\n",
    "# Gọi hàm để lưu dữ liệu vào CSV\n",
    "save_to_csv(data, csv_file_path)\n",
    "\n",
    "print(\"Dữ liệu đã được lưu vào file CSV thành công.\")"
   ]
  }
 ],
 "metadata": {
  "kernelspec": {
   "display_name": "Python 3",
   "language": "python",
   "name": "python3"
  },
  "language_info": {
   "codemirror_mode": {
    "name": "ipython",
    "version": 3
   },
   "file_extension": ".py",
   "mimetype": "text/x-python",
   "name": "python",
   "nbconvert_exporter": "python",
   "pygments_lexer": "ipython3",
   "version": "3.9.8"
  }
 },
 "nbformat": 4,
 "nbformat_minor": 2
}
