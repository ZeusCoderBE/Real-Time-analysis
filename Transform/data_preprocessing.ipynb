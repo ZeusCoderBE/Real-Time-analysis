{
 "cells": [
  {
   "cell_type": "markdown",
   "metadata": {},
   "source": [
    "> Import thư viện"
   ]
  },
  {
   "cell_type": "code",
   "execution_count": 147,
   "metadata": {},
   "outputs": [],
   "source": [
    "import pandas as pd\n",
    "import numpy as np"
   ]
  },
  {
   "cell_type": "markdown",
   "metadata": {},
   "source": [
    "> đọc dữ liệu laptop"
   ]
  },
  {
   "cell_type": "code",
   "execution_count": 148,
   "metadata": {},
   "outputs": [],
   "source": [
    "df_laptop=pd.read_csv(\"../data/laptop_reviews_by_brand.csv\")"
   ]
  },
  {
   "cell_type": "markdown",
   "metadata": {},
   "source": [
    "> 10 first line"
   ]
  },
  {
   "cell_type": "code",
   "execution_count": 149,
   "metadata": {},
   "outputs": [
    {
     "data": {
      "text/html": [
       "<div>\n",
       "<style scoped>\n",
       "    .dataframe tbody tr th:only-of-type {\n",
       "        vertical-align: middle;\n",
       "    }\n",
       "\n",
       "    .dataframe tbody tr th {\n",
       "        vertical-align: top;\n",
       "    }\n",
       "\n",
       "    .dataframe thead th {\n",
       "        text-align: right;\n",
       "    }\n",
       "</style>\n",
       "<table border=\"1\" class=\"dataframe\">\n",
       "  <thead>\n",
       "    <tr style=\"text-align: right;\">\n",
       "      <th></th>\n",
       "      <th>Product Name</th>\n",
       "      <th>Current Price</th>\n",
       "      <th>Reviewer</th>\n",
       "      <th>Rating</th>\n",
       "      <th>Comment</th>\n",
       "      <th>Time Used</th>\n",
       "    </tr>\n",
       "  </thead>\n",
       "  <tbody>\n",
       "    <tr>\n",
       "      <th>0</th>\n",
       "      <td>NaN</td>\n",
       "      <td>NaN</td>\n",
       "      <td>huyền trang</td>\n",
       "      <td>3</td>\n",
       "      <td>em muốn cài sang tiếng việt mà máy hong hỗ trợ</td>\n",
       "      <td>Đã dùng khoảng 1 tháng</td>\n",
       "    </tr>\n",
       "    <tr>\n",
       "      <th>1</th>\n",
       "      <td>NaN</td>\n",
       "      <td>NaN</td>\n",
       "      <td>Trịnh Thanh Tú</td>\n",
       "      <td>4</td>\n",
       "      <td>Em có mua máy này ở thế giới di động Sóc Trăng...</td>\n",
       "      <td>Đã dùng khoảng 2 tháng</td>\n",
       "    </tr>\n",
       "    <tr>\n",
       "      <th>2</th>\n",
       "      <td>NaN</td>\n",
       "      <td>NaN</td>\n",
       "      <td>NGUYỄN THỊ THANH NHÀN</td>\n",
       "      <td>5</td>\n",
       "      <td>Mình chỉ sử dụng mục đích học tập, văn phòng n...</td>\n",
       "      <td>Đã dùng khoảng 1 ngày</td>\n",
       "    </tr>\n",
       "    <tr>\n",
       "      <th>3</th>\n",
       "      <td>NaN</td>\n",
       "      <td>NaN</td>\n",
       "      <td>bùi tiên</td>\n",
       "      <td>3</td>\n",
       "      <td>tôi không bật được micro trên laptop. xin được...</td>\n",
       "      <td>Đã dùng khoảng 1 tuần</td>\n",
       "    </tr>\n",
       "    <tr>\n",
       "      <th>4</th>\n",
       "      <td>Laptop HP Gaming VICTUS 15 fa1139TX i5 12450H/...</td>\n",
       "      <td>18.490.000₫</td>\n",
       "      <td>Nguyễn Chí Vỹ</td>\n",
       "      <td>4</td>\n",
       "      <td>Lap dùng ổn khi chơi game, làm tác vụ văn phòn...</td>\n",
       "      <td>Đã dùng khoảng 1 tuần</td>\n",
       "    </tr>\n",
       "    <tr>\n",
       "      <th>5</th>\n",
       "      <td>Laptop HP Gaming VICTUS 15 fa1139TX i5 12450H/...</td>\n",
       "      <td>18.490.000₫</td>\n",
       "      <td>Cường</td>\n",
       "      <td>2</td>\n",
       "      <td>Không nên mua con này.Dùng vài tháng đã sạc kh...</td>\n",
       "      <td>Đã dùng khoảng 4 tháng</td>\n",
       "    </tr>\n",
       "    <tr>\n",
       "      <th>6</th>\n",
       "      <td>Laptop HP Gaming VICTUS 15 fa1139TX i5 12450H/...</td>\n",
       "      <td>18.490.000₫</td>\n",
       "      <td>Nguyễn Chí Tâm</td>\n",
       "      <td>5</td>\n",
       "      <td>Tốt đáng mua</td>\n",
       "      <td>Đã dùng khoảng 1 tuần</td>\n",
       "    </tr>\n",
       "    <tr>\n",
       "      <th>7</th>\n",
       "      <td>Laptop HP Gaming VICTUS 15 fa1139TX i5 12450H/...</td>\n",
       "      <td>18.490.000₫</td>\n",
       "      <td>Nguyễn Xuân Toàn</td>\n",
       "      <td>5</td>\n",
       "      <td>NaN</td>\n",
       "      <td>Đã dùng khoảng 1 tuần</td>\n",
       "    </tr>\n",
       "    <tr>\n",
       "      <th>8</th>\n",
       "      <td>Laptop HP Gaming VICTUS 15 fa1139TX i5 12450H/...</td>\n",
       "      <td>18.490.000₫</td>\n",
       "      <td>Trần Thị Ngọc Khuyên</td>\n",
       "      <td>4</td>\n",
       "      <td>NaN</td>\n",
       "      <td>Đã dùng khoảng 1 tuần</td>\n",
       "    </tr>\n",
       "    <tr>\n",
       "      <th>9</th>\n",
       "      <td>NaN</td>\n",
       "      <td>NaN</td>\n",
       "      <td>Nong thi lan</td>\n",
       "      <td>2</td>\n",
       "      <td>Máy mới mà nhanh hết pin chắc dùng được 2 tiếng</td>\n",
       "      <td>Đã dùng khoảng 1 ngày</td>\n",
       "    </tr>\n",
       "  </tbody>\n",
       "</table>\n",
       "</div>"
      ],
      "text/plain": [
       "                                        Product Name Current Price  \\\n",
       "0                                                NaN           NaN   \n",
       "1                                                NaN           NaN   \n",
       "2                                                NaN           NaN   \n",
       "3                                                NaN           NaN   \n",
       "4  Laptop HP Gaming VICTUS 15 fa1139TX i5 12450H/...   18.490.000₫   \n",
       "5  Laptop HP Gaming VICTUS 15 fa1139TX i5 12450H/...   18.490.000₫   \n",
       "6  Laptop HP Gaming VICTUS 15 fa1139TX i5 12450H/...   18.490.000₫   \n",
       "7  Laptop HP Gaming VICTUS 15 fa1139TX i5 12450H/...   18.490.000₫   \n",
       "8  Laptop HP Gaming VICTUS 15 fa1139TX i5 12450H/...   18.490.000₫   \n",
       "9                                                NaN           NaN   \n",
       "\n",
       "                Reviewer  Rating  \\\n",
       "0            huyền trang       3   \n",
       "1         Trịnh Thanh Tú       4   \n",
       "2  NGUYỄN THỊ THANH NHÀN       5   \n",
       "3               bùi tiên       3   \n",
       "4          Nguyễn Chí Vỹ       4   \n",
       "5                  Cường       2   \n",
       "6         Nguyễn Chí Tâm       5   \n",
       "7       Nguyễn Xuân Toàn       5   \n",
       "8   Trần Thị Ngọc Khuyên       4   \n",
       "9           Nong thi lan       2   \n",
       "\n",
       "                                             Comment               Time Used  \n",
       "0     em muốn cài sang tiếng việt mà máy hong hỗ trợ  Đã dùng khoảng 1 tháng  \n",
       "1  Em có mua máy này ở thế giới di động Sóc Trăng...  Đã dùng khoảng 2 tháng  \n",
       "2  Mình chỉ sử dụng mục đích học tập, văn phòng n...   Đã dùng khoảng 1 ngày  \n",
       "3  tôi không bật được micro trên laptop. xin được...   Đã dùng khoảng 1 tuần  \n",
       "4  Lap dùng ổn khi chơi game, làm tác vụ văn phòn...   Đã dùng khoảng 1 tuần  \n",
       "5  Không nên mua con này.Dùng vài tháng đã sạc kh...  Đã dùng khoảng 4 tháng  \n",
       "6                                       Tốt đáng mua   Đã dùng khoảng 1 tuần  \n",
       "7                                                NaN   Đã dùng khoảng 1 tuần  \n",
       "8                                                NaN   Đã dùng khoảng 1 tuần  \n",
       "9    Máy mới mà nhanh hết pin chắc dùng được 2 tiếng   Đã dùng khoảng 1 ngày  "
      ]
     },
     "execution_count": 149,
     "metadata": {},
     "output_type": "execute_result"
    }
   ],
   "source": [
    "df_laptop.head(10)"
   ]
  },
  {
   "cell_type": "markdown",
   "metadata": {},
   "source": [
    "> Loại bỏ ký tự không cần thiết từ cột 'Current Price' và chuyển đổi thành kiểu số nguyên"
   ]
  },
  {
   "cell_type": "markdown",
   "metadata": {},
   "source": [
    "> "
   ]
  },
  {
   "cell_type": "code",
   "execution_count": 150,
   "metadata": {},
   "outputs": [],
   "source": [
    "\n",
    "df_laptop['Current Price'] = df_laptop['Current Price'].str.replace(r'[^\\d]', '', regex=True).astype(float)\n"
   ]
  },
  {
   "cell_type": "markdown",
   "metadata": {},
   "source": [
    "> Xử lý time"
   ]
  },
  {
   "cell_type": "code",
   "execution_count": 151,
   "metadata": {},
   "outputs": [],
   "source": [
    "df_laptop['Time Used'] = df_laptop['Time Used'].str.replace(r'Đã dùng khoảng\\s*', '', regex=True).str.strip()"
   ]
  },
  {
   "cell_type": "markdown",
   "metadata": {},
   "source": [
    "> Xử lý giá trị bị thiếu cho df_laptop"
   ]
  },
  {
   "cell_type": "markdown",
   "metadata": {},
   "source": [
    "> kiểm tra giá trị null"
   ]
  },
  {
   "cell_type": "code",
   "execution_count": 152,
   "metadata": {},
   "outputs": [
    {
     "data": {
      "text/plain": [
       "Product Name      35\n",
       "Current Price     35\n",
       "Reviewer           1\n",
       "Rating             0\n",
       "Comment          100\n",
       "Time Used          1\n",
       "dtype: int64"
      ]
     },
     "execution_count": 152,
     "metadata": {},
     "output_type": "execute_result"
    }
   ],
   "source": [
    "df_laptop.isnull().sum()"
   ]
  },
  {
   "cell_type": "code",
   "execution_count": 153,
   "metadata": {},
   "outputs": [],
   "source": [
    "\n",
    "mean_price = df_laptop['Current Price'].mean()\n",
    "most_common_product_name = df_laptop['Product Name'].mode()[0]\n",
    "most_common_time_used = df_laptop['Time Used'].mode()[0]\n",
    "most_common_reviewer = df_laptop['Reviewer'].mode()[0]\n",
    "\n",
    "# Thay thế các giá trị thiếu trong các cột khác\n",
    "df_laptop['Product Name'] = df_laptop['Product Name'].fillna(most_common_product_name)\n",
    "df_laptop['Time Used'] = df_laptop['Time Used'].fillna(most_common_time_used)\n",
    "df_laptop['Reviewer'] = df_laptop['Reviewer'].fillna(most_common_reviewer)\n",
    "df_laptop['Current Price'] = df_laptop['Current Price'].fillna(mean_price)\n",
    "# Tính giá trị phổ biến nhất cho cột 'Comment', nếu có\n",
    "most_common_comment = df_laptop['Comment'].mode()[0] if not df_laptop['Comment'].mode().empty else 'Unknown'\n",
    "\n",
    "# Thay thế các giá trị thiếu trong cột 'Comment'\n",
    "df_laptop['Comment'] = df_laptop['Comment'].fillna(most_common_comment)\n",
    "df_laptop.to_csv(\"../data/laptop_data.csv\",index=False,encoding='utf-8')\n"
   ]
  },
  {
   "cell_type": "markdown",
   "metadata": {},
   "source": [
    "> Kiểm tra null lại"
   ]
  },
  {
   "cell_type": "markdown",
   "metadata": {},
   "source": [
    "> "
   ]
  },
  {
   "cell_type": "code",
   "execution_count": 154,
   "metadata": {},
   "outputs": [
    {
     "data": {
      "text/plain": [
       "Product Name     0\n",
       "Current Price    0\n",
       "Reviewer         0\n",
       "Rating           0\n",
       "Comment          0\n",
       "Time Used        0\n",
       "dtype: int64"
      ]
     },
     "execution_count": 154,
     "metadata": {},
     "output_type": "execute_result"
    }
   ],
   "source": [
    "df_laptop.isnull().sum()"
   ]
  },
  {
   "cell_type": "markdown",
   "metadata": {},
   "source": [
    "> Đọc dữ liệu điện thoại"
   ]
  },
  {
   "cell_type": "code",
   "execution_count": 155,
   "metadata": {},
   "outputs": [],
   "source": [
    "df_dienthoai=pd.read_csv(\"../data/phone_data.csv\")"
   ]
  },
  {
   "cell_type": "markdown",
   "metadata": {},
   "source": [
    "> 5 dòng đầu tiên"
   ]
  },
  {
   "cell_type": "code",
   "execution_count": 156,
   "metadata": {},
   "outputs": [
    {
     "data": {
      "text/html": [
       "<div>\n",
       "<style scoped>\n",
       "    .dataframe tbody tr th:only-of-type {\n",
       "        vertical-align: middle;\n",
       "    }\n",
       "\n",
       "    .dataframe tbody tr th {\n",
       "        vertical-align: top;\n",
       "    }\n",
       "\n",
       "    .dataframe thead th {\n",
       "        text-align: right;\n",
       "    }\n",
       "</style>\n",
       "<table border=\"1\" class=\"dataframe\">\n",
       "  <thead>\n",
       "    <tr style=\"text-align: right;\">\n",
       "      <th></th>\n",
       "      <th>Product Name</th>\n",
       "      <th>Current Price</th>\n",
       "      <th>Reviewer</th>\n",
       "      <th>Rating</th>\n",
       "      <th>Comment</th>\n",
       "      <th>Time Used</th>\n",
       "    </tr>\n",
       "  </thead>\n",
       "  <tbody>\n",
       "    <tr>\n",
       "      <th>0</th>\n",
       "      <td>Xiaomi Redmi Note 13</td>\n",
       "      <td>5290000</td>\n",
       "      <td>Hải</td>\n",
       "      <td>5</td>\n",
       "      <td>H thay kính cam hết nhiu ạ</td>\n",
       "      <td>4 tháng</td>\n",
       "    </tr>\n",
       "    <tr>\n",
       "      <th>1</th>\n",
       "      <td>Xiaomi Redmi Note 13</td>\n",
       "      <td>5290000</td>\n",
       "      <td>Quách Đoàn</td>\n",
       "      <td>3</td>\n",
       "      <td>Mình vừa dùng đc tầm 2 tháng. Ma giờ đt.đơ giậ...</td>\n",
       "      <td>2 tháng</td>\n",
       "    </tr>\n",
       "    <tr>\n",
       "      <th>2</th>\n",
       "      <td>Xiaomi Redmi Note 13</td>\n",
       "      <td>5290000</td>\n",
       "      <td>Đỗ Văn Chien</td>\n",
       "      <td>3</td>\n",
       "      <td>Máy quá tệ Sài tôn pin quá à</td>\n",
       "      <td>1 ngày</td>\n",
       "    </tr>\n",
       "    <tr>\n",
       "      <th>3</th>\n",
       "      <td>Xiaomi Redmi Note 13</td>\n",
       "      <td>5290000</td>\n",
       "      <td>Thơm</td>\n",
       "      <td>4</td>\n",
       "      <td>Mình mới mua được nửa tháng bị lỗi sóng di độn...</td>\n",
       "      <td>2 tuần</td>\n",
       "    </tr>\n",
       "    <tr>\n",
       "      <th>4</th>\n",
       "      <td>Xiaomi Redmi Note 13</td>\n",
       "      <td>5290000</td>\n",
       "      <td>Nguyễn Văn Thích</td>\n",
       "      <td>4</td>\n",
       "      <td>Em muốn bán lại nhưng ko có phụ kiện thì mất b...</td>\n",
       "      <td>2 tuần</td>\n",
       "    </tr>\n",
       "  </tbody>\n",
       "</table>\n",
       "</div>"
      ],
      "text/plain": [
       "           Product Name  Current Price          Reviewer  Rating  \\\n",
       "0  Xiaomi Redmi Note 13        5290000               Hải       5   \n",
       "1  Xiaomi Redmi Note 13        5290000        Quách Đoàn       3   \n",
       "2  Xiaomi Redmi Note 13        5290000      Đỗ Văn Chien       3   \n",
       "3  Xiaomi Redmi Note 13        5290000              Thơm       4   \n",
       "4  Xiaomi Redmi Note 13        5290000  Nguyễn Văn Thích       4   \n",
       "\n",
       "                                             Comment Time Used  \n",
       "0                         H thay kính cam hết nhiu ạ   4 tháng  \n",
       "1  Mình vừa dùng đc tầm 2 tháng. Ma giờ đt.đơ giậ...   2 tháng  \n",
       "2                       Máy quá tệ Sài tôn pin quá à    1 ngày  \n",
       "3  Mình mới mua được nửa tháng bị lỗi sóng di độn...    2 tuần  \n",
       "4  Em muốn bán lại nhưng ko có phụ kiện thì mất b...    2 tuần  "
      ]
     },
     "execution_count": 156,
     "metadata": {},
     "output_type": "execute_result"
    }
   ],
   "source": [
    "df_dienthoai.head(5)"
   ]
  },
  {
   "cell_type": "code",
   "execution_count": 157,
   "metadata": {},
   "outputs": [
    {
     "data": {
      "text/plain": [
       "Product Name     0\n",
       "Current Price    0\n",
       "Reviewer         0\n",
       "Rating           0\n",
       "Comment          0\n",
       "Time Used        0\n",
       "dtype: int64"
      ]
     },
     "execution_count": 157,
     "metadata": {},
     "output_type": "execute_result"
    }
   ],
   "source": [
    "df_dienthoai.isnull().sum()"
   ]
  },
  {
   "cell_type": "markdown",
   "metadata": {},
   "source": [
    "> Xử lý giá trị bị thiếu"
   ]
  },
  {
   "cell_type": "code",
   "execution_count": 158,
   "metadata": {},
   "outputs": [],
   "source": [
    "# Tính giá trị phổ biến nhất cho các cột\n",
    "most_common_reviewer_phone = df_dienthoai['Reviewer'].mode()[0]\n",
    "most_common_time_used_phone = df_dienthoai['Time Used'].mode()[0]\n",
    "\n",
    "# Tính giá trị phổ biến nhất cho cột 'Comment', nếu có\n",
    "most_common_comment_phone = df_dienthoai['Comment'].mode()[0] if not df_dienthoai['Comment'].mode().empty else 'Unknown'\n",
    "\n",
    "# Thay thế các giá trị thiếu trong các cột\n",
    "df_dienthoai['Reviewer'] = df_dienthoai['Reviewer'].fillna(most_common_reviewer_phone)\n",
    "df_dienthoai['Time Used'] = df_dienthoai['Time Used'].fillna(most_common_time_used_phone)\n",
    "df_dienthoai['Comment'] = df_dienthoai['Comment'].fillna(most_common_comment_phone)\n",
    "\n",
    "# Kiểm tra lại các giá trị null sau khi xử lý\n",
    "df_dienthoai[['Reviewer', 'Comment', 'Time Used']].isnull().sum()\n",
    "\n",
    "# Lưu dataframe đã xử lý vào file CSV\n",
    "df_dienthoai.to_csv(\"../data/phone_data.csv\", index=False, encoding='utf-8')"
   ]
  },
  {
   "cell_type": "markdown",
   "metadata": {},
   "source": [
    "> Nối df_laptop và df_dienthoai"
   ]
  },
  {
   "cell_type": "code",
   "execution_count": 159,
   "metadata": {},
   "outputs": [],
   "source": [
    "# Nối df_laptop và df_dienthoai theo chiều dọc\n",
    "df_combined = pd.concat([df_laptop, df_dienthoai], ignore_index=True)\n",
    "# Lưu vào file CSV\n",
    "df_combined.to_csv(\"../data/combined_data.csv\", index=False, encoding='utf-8')"
   ]
  },
  {
   "cell_type": "markdown",
   "metadata": {},
   "source": [
    "> Xử lý đổi về ngày sử dụng"
   ]
  },
  {
   "cell_type": "code",
   "execution_count": 160,
   "metadata": {},
   "outputs": [],
   "source": [
    "def convert_time_to_days(time_str):\n",
    "    if pd.isna(time_str):\n",
    "        return np.nan\n",
    "    time_str = time_str.lower().strip()  # Chuyển về chữ thường và loại bỏ khoảng trắng\n",
    "    if 'ngày' in time_str:\n",
    "        return int(time_str.replace('ngày', '').strip())\n",
    "    elif 'tuần' in time_str:\n",
    "        return int(time_str.replace('tuần', '').strip()) * 7\n",
    "    elif 'tháng' in time_str:\n",
    "        return int(time_str.replace('tháng', '').strip()) * 30\n",
    "    elif 'năm' in time_str:\n",
    "        return int(time_str.replace('năm', '').strip()) * 365\n",
    "    else:\n",
    "        return np.nan  # Nếu không khớp với định dạng nào"
   ]
  },
  {
   "cell_type": "code",
   "execution_count": 161,
   "metadata": {},
   "outputs": [],
   "source": [
    "# Áp dụng hàm chuyển đổi\n",
    "df_combined['Time Used'] = df_combined['Time Used'].apply(convert_time_to_days)"
   ]
  }
 ],
 "metadata": {
  "kernelspec": {
   "display_name": "DM-xmUrTfoX",
   "language": "python",
   "name": "python3"
  },
  "language_info": {
   "codemirror_mode": {
    "name": "ipython",
    "version": 3
   },
   "file_extension": ".py",
   "mimetype": "text/x-python",
   "name": "python",
   "nbconvert_exporter": "python",
   "pygments_lexer": "ipython3",
   "version": "3.11.5"
  }
 },
 "nbformat": 4,
 "nbformat_minor": 2
}
