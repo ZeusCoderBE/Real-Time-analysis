{
 "cells": [
  {
   "cell_type": "markdown",
   "metadata": {},
   "source": [
    "# 1. Thư viện"
   ]
  },
  {
   "cell_type": "code",
   "execution_count": 1,
   "metadata": {},
   "outputs": [],
   "source": [
    "from selenium import webdriver\n",
    "from selenium.webdriver.common.by import By\n",
    "from selenium.webdriver.chrome.service import Service\n",
    "from selenium.webdriver.common.action_chains import ActionChains\n",
    "from selenium.webdriver.common.keys import Keys\n",
    "import time\n",
    "import pandas as pd\n",
    "from selenium.webdriver.support.ui import WebDriverWait\n",
    "from selenium.webdriver.support import expected_conditions as EC\n",
    "from selenium.common.exceptions import NoSuchElementException\n",
    "import os"
   ]
  },
  {
   "cell_type": "markdown",
   "metadata": {},
   "source": [
    "# 2. Thực thi"
   ]
  },
  {
   "cell_type": "markdown",
   "metadata": {},
   "source": [
    "## 2.1. Crawl List Phone Link"
   ]
  },
  {
   "cell_type": "code",
   "execution_count": 7,
   "metadata": {},
   "outputs": [],
   "source": [
    "def convert_price_to_int(price_str):\n",
    "    # Chuyển đổi giá từ định dạng có dấu phân cách thành số nguyên\n",
    "    price_str = price_str.replace('₫', '').replace('.', '').strip()\n",
    "    try:\n",
    "        return int(price_str)\n",
    "    except ValueError:\n",
    "        return None\n",
    "\n",
    "def save_to_csv(data, filename):\n",
    "    # Tạo DataFrame từ dữ liệu\n",
    "    df = pd.DataFrame(data)\n",
    "    \n",
    "    # Kiểm tra nếu file đã tồn tại\n",
    "    file_exists = os.path.isfile(filename)\n",
    "    \n",
    "    # Nếu file chưa tồn tại, tạo một file mới với tiêu đề cột cụ thể\n",
    "    if not file_exists:\n",
    "        # Tạo một DataFrame với các tiêu đề cột cụ thể\n",
    "        df_empty = pd.DataFrame(columns=['ten_SanPham', 'giaTien', 'rating', 'comment', 'link_Phone'])\n",
    "        # Ghi tiêu đề cột vào file CSV\n",
    "        df_empty.to_csv(filename, index=False, encoding='utf-8')\n",
    "    \n",
    "    # Ghi dữ liệu vào file CSV\n",
    "    df.to_csv(filename, mode='a', header=False, index=False, encoding='utf-8')"
   ]
  },
  {
   "cell_type": "code",
   "execution_count": 8,
   "metadata": {},
   "outputs": [
    {
     "name": "stderr",
     "output_type": "stream",
     "text": [
      "The chromedriver version (127.0.6533.88) detected in PATH at C:\\webDriver\\chromedriver.exe might not be compatible with the detected chrome version (128.0.6613.138); currently, chromedriver 128.0.6613.137 is recommended for chrome 128.*, so it is advised to delete the driver in PATH and retry\n"
     ]
    }
   ],
   "source": [
    "driver = webdriver.Chrome()\n",
    "wait = WebDriverWait(driver, 10)\n",
    "\n",
    "# Truy cập trang web\n",
    "url = \"https://www.thegioididong.com/dtdd\"\n",
    "driver.get(url)\n",
    "\n",
    "time.sleep(3)\n",
    "\n",
    "# Mở file CSV và viết tiêu đề nếu file không tồn tại\n",
    "csv_file = 'data/data_List_Phone.csv'\n",
    "save_to_csv([], csv_file)  # Tạo file CSV với tiêu đề nếu chưa có"
   ]
  },
  {
   "cell_type": "code",
   "execution_count": 9,
   "metadata": {},
   "outputs": [],
   "source": [
    "# Nhấn nút \"Xem thêm\" để tải toàn bộ danh sách điện thoại\n",
    "while True:\n",
    "    try:\n",
    "        # Kiểm tra xem nút \"Xem thêm\" có xuất hiện không\n",
    "        view_more_button = driver.find_element(By.CLASS_NAME, \"see-more-btn\")\n",
    "        \n",
    "        # Nếu nút \"Xem thêm\" xuất hiện, nhấn vào nó\n",
    "        if view_more_button.is_displayed():\n",
    "            driver.execute_script(\"arguments[0].click();\", view_more_button)\n",
    "            time.sleep(2)  # Chờ trang tải thêm dữ liệu\n",
    "        else:\n",
    "            # Nếu không còn nút, thoát khỏi vòng lặp\n",
    "            break\n",
    "    except:\n",
    "        # Thoát khỏi vòng lặp nếu không tìm thấy nút \"Xem thêm\"\n",
    "        break"
   ]
  },
  {
   "cell_type": "code",
   "execution_count": 10,
   "metadata": {},
   "outputs": [],
   "source": [
    "# Lấy toàn bộ sản phẩm từ danh sách\n",
    "phone_elements = driver.find_elements(By.CSS_SELECTOR, 'ul.listproduct li.item.ajaxed.__cate_42')\n",
    "\n",
    "for phone in phone_elements:\n",
    "    try:\n",
    "        # Kiểm tra xem thẻ <div class=\"vote-txt\"> có tồn tại không\n",
    "        vote_txt = phone.find_element(By.CSS_SELECTOR, 'div.vote-txt')\n",
    "        \n",
    "        # Kiểm tra xem thẻ vote-txt có chứa text không\n",
    "        if vote_txt.text.strip() != \"\":\n",
    "            # Lấy tên sản phẩm\n",
    "            ten_SanPham = phone.find_element(By.CSS_SELECTOR, 'a.main-contain h3').text\n",
    "            \n",
    "            # Lấy giá tiền\n",
    "            giaTien_raw = phone.find_element(By.CSS_SELECTOR, 'strong.price').text\n",
    "            giaTien = convert_price_to_int(giaTien_raw)\n",
    "            \n",
    "            # Lấy rating từ thẻ <b> và comment từ text ngoài thẻ <b>\n",
    "            rating = float(vote_txt.find_element(By.TAG_NAME, 'b').text)\n",
    "            # Lấy comment từ chuỗi đầy đủ của vote-txt và tách bỏ rating\n",
    "            full_text = vote_txt.text\n",
    "            comment = int(full_text.split('(')[-1].strip(')'))  # Lấy số trong dấu ngoặc ()\n",
    "            \n",
    "            # Lấy link sản phẩm từ thuộc tính href\n",
    "            link_Phone = phone.find_element(By.CSS_SELECTOR, 'a.main-contain').get_attribute('href')\n",
    "            \n",
    "            # Lưu dữ liệu vào danh sách và ghi vào file CSV\n",
    "            phone_data = {\n",
    "                'ten_SanPham': ten_SanPham,\n",
    "                'giaTien': giaTien,\n",
    "                'rating': rating,\n",
    "                'comment': comment,\n",
    "                'link_Phone': link_Phone\n",
    "            }\n",
    "            save_to_csv([phone_data], csv_file)  # Ghi dữ liệu vào file CSV\n",
    "\n",
    "    except Exception as e:\n",
    "        print(f\"Lỗi khi crawl dữ liệu cho sản phẩm: {e}\")\n",
    "        continue\n",
    "\n",
    "# Đóng trình duyệt\n",
    "driver.quit()"
   ]
  },
  {
   "cell_type": "markdown",
   "metadata": {},
   "source": [
    "## 2.2. Crawl Detail Phone's Comments"
   ]
  },
  {
   "cell_type": "code",
   "execution_count": 11,
   "metadata": {},
   "outputs": [],
   "source": [
    "# Đọc dữ liệu từ CSV\n",
    "df = pd.read_csv('data/data_List_Phone.csv')  # Đọc dữ liệu từ file CSV đã có\n",
    "\n",
    "# Tạo dictionary để lưu thông tin sản phẩm\n",
    "product_info = {\n",
    "    row['link_Phone']: {\n",
    "        'phone_Name': row['ten_SanPham'],\n",
    "        'phone_Price': row['giaTien']\n",
    "    }\n",
    "    for _, row in df.iterrows()\n",
    "}"
   ]
  },
  {
   "cell_type": "code",
   "execution_count": 12,
   "metadata": {},
   "outputs": [],
   "source": [
    "# Tạo DataFrame trống để lưu trữ dữ liệu\n",
    "df_result = pd.DataFrame(columns=[\"phone_Name\", \"phone_Price\", \"user_Name\", \"user_Rating\", \"user_Comment\", \"user_Time_Comment\"])"
   ]
  },
  {
   "cell_type": "code",
   "execution_count": 13,
   "metadata": {},
   "outputs": [
    {
     "name": "stderr",
     "output_type": "stream",
     "text": [
      "The chromedriver version (127.0.6533.88) detected in PATH at C:\\webDriver\\chromedriver.exe might not be compatible with the detected chrome version (128.0.6613.138); currently, chromedriver 128.0.6613.137 is recommended for chrome 128.*, so it is advised to delete the driver in PATH and retry\n"
     ]
    },
    {
     "name": "stdout",
     "output_type": "stream",
     "text": [
      "Đang mở: https://www.thegioididong.com/dtdd/xiaomi-redmi-note-13/danh-gia?page=1\n",
      "Thẻ <ul class='comment-list'> tồn tại.\n",
      "Đang mở: https://www.thegioididong.com/dtdd/xiaomi-redmi-note-13/danh-gia?page=2\n",
      "Trang 2 có thẻ <span class='active'>, tiếp tục cào dữ liệu.\n",
      "Thẻ <ul class='comment-list'> tồn tại.\n",
      "Đang mở: https://www.thegioididong.com/dtdd/xiaomi-redmi-note-13/danh-gia?page=3\n",
      "Trang 3 có thẻ <span class='active'>, tiếp tục cào dữ liệu.\n",
      "Thẻ <ul class='comment-list'> tồn tại.\n",
      "Đang mở: https://www.thegioididong.com/dtdd/xiaomi-redmi-note-13/danh-gia?page=4\n",
      "Trang 4 có thẻ <span class='active'>, tiếp tục cào dữ liệu.\n",
      "Thẻ <ul class='comment-list'> tồn tại.\n",
      "Đang mở: https://www.thegioididong.com/dtdd/xiaomi-redmi-note-13/danh-gia?page=5\n",
      "Trang 5 có thẻ <span class='active'>, tiếp tục cào dữ liệu.\n",
      "Thẻ <ul class='comment-list'> tồn tại.\n",
      "Đang mở: https://www.thegioididong.com/dtdd/xiaomi-redmi-note-13/danh-gia?page=6\n",
      "Trang 6 có thẻ <span class='active'>, tiếp tục cào dữ liệu.\n",
      "Thẻ <ul class='comment-list'> tồn tại.\n",
      "Đang mở: https://www.thegioididong.com/dtdd/xiaomi-redmi-note-13/danh-gia?page=7\n",
      "Trang 7 có thẻ <span class='active'>, tiếp tục cào dữ liệu.\n",
      "Thẻ <ul class='comment-list'> tồn tại.\n",
      "Đang mở: https://www.thegioididong.com/dtdd/xiaomi-redmi-note-13/danh-gia?page=8\n",
      "Trang 8 không có thẻ <span class='active'>, dừng cào cho link này.\n"
     ]
    },
    {
     "name": "stderr",
     "output_type": "stream",
     "text": [
      "The chromedriver version (127.0.6533.88) detected in PATH at C:\\webDriver\\chromedriver.exe might not be compatible with the detected chrome version (128.0.6613.138); currently, chromedriver 128.0.6613.137 is recommended for chrome 128.*, so it is advised to delete the driver in PATH and retry\n"
     ]
    },
    {
     "name": "stdout",
     "output_type": "stream",
     "text": [
      "Đang mở: https://www.thegioididong.com/dtdd/realme-c65/danh-gia?page=1\n",
      "Thẻ <ul class='comment-list'> tồn tại.\n",
      "Đang mở: https://www.thegioididong.com/dtdd/realme-c65/danh-gia?page=2\n",
      "Trang 2 không có thẻ <span class='active'>, dừng cào cho link này.\n"
     ]
    },
    {
     "name": "stderr",
     "output_type": "stream",
     "text": [
      "The chromedriver version (127.0.6533.88) detected in PATH at C:\\webDriver\\chromedriver.exe might not be compatible with the detected chrome version (128.0.6613.138); currently, chromedriver 128.0.6613.137 is recommended for chrome 128.*, so it is advised to delete the driver in PATH and retry\n"
     ]
    },
    {
     "name": "stdout",
     "output_type": "stream",
     "text": [
      "Đang mở: https://www.thegioididong.com/dtdd/samsung-galaxy-a55-5g/danh-gia?page=1\n",
      "Thẻ <ul class='comment-list'> tồn tại.\n",
      "Đang mở: https://www.thegioididong.com/dtdd/samsung-galaxy-a55-5g/danh-gia?page=2\n",
      "Trang 2 có thẻ <span class='active'>, tiếp tục cào dữ liệu.\n",
      "Thẻ <ul class='comment-list'> tồn tại.\n",
      "Đang mở: https://www.thegioididong.com/dtdd/samsung-galaxy-a55-5g/danh-gia?page=3\n",
      "Trang 3 không có thẻ <span class='active'>, dừng cào cho link này.\n"
     ]
    },
    {
     "name": "stderr",
     "output_type": "stream",
     "text": [
      "The chromedriver version (127.0.6533.88) detected in PATH at C:\\webDriver\\chromedriver.exe might not be compatible with the detected chrome version (128.0.6613.138); currently, chromedriver 128.0.6613.137 is recommended for chrome 128.*, so it is advised to delete the driver in PATH and retry\n"
     ]
    },
    {
     "name": "stdout",
     "output_type": "stream",
     "text": [
      "Đang mở: https://www.thegioididong.com/dtdd/samsung-galaxy-z-fold6?utm_flashsale=1/danh-gia?page=1\n",
      "Thẻ <ul class='comment-list'> tồn tại.\n",
      "Đang mở: https://www.thegioididong.com/dtdd/samsung-galaxy-z-fold6?utm_flashsale=1/danh-gia?page=2\n",
      "Trang 2 không có thẻ <span class='active'>, dừng cào cho link này.\n"
     ]
    },
    {
     "name": "stderr",
     "output_type": "stream",
     "text": [
      "The chromedriver version (127.0.6533.88) detected in PATH at C:\\webDriver\\chromedriver.exe might not be compatible with the detected chrome version (128.0.6613.138); currently, chromedriver 128.0.6613.137 is recommended for chrome 128.*, so it is advised to delete the driver in PATH and retry\n"
     ]
    },
    {
     "name": "stdout",
     "output_type": "stream",
     "text": [
      "Đang mở: https://www.thegioididong.com/dtdd/samsung-galaxy-s23-ultra/danh-gia?page=1\n",
      "Thẻ <ul class='comment-list'> tồn tại.\n",
      "Đang mở: https://www.thegioididong.com/dtdd/samsung-galaxy-s23-ultra/danh-gia?page=2\n",
      "Trang 2 có thẻ <span class='active'>, tiếp tục cào dữ liệu.\n",
      "Thẻ <ul class='comment-list'> tồn tại.\n",
      "Đang mở: https://www.thegioididong.com/dtdd/samsung-galaxy-s23-ultra/danh-gia?page=3\n",
      "Trang 3 có thẻ <span class='active'>, tiếp tục cào dữ liệu.\n",
      "Thẻ <ul class='comment-list'> tồn tại.\n",
      "Đang mở: https://www.thegioididong.com/dtdd/samsung-galaxy-s23-ultra/danh-gia?page=4\n",
      "Trang 4 có thẻ <span class='active'>, tiếp tục cào dữ liệu.\n",
      "Thẻ <ul class='comment-list'> tồn tại.\n",
      "Đang mở: https://www.thegioididong.com/dtdd/samsung-galaxy-s23-ultra/danh-gia?page=5\n",
      "Trang 5 có thẻ <span class='active'>, tiếp tục cào dữ liệu.\n",
      "Thẻ <ul class='comment-list'> tồn tại.\n",
      "Đang mở: https://www.thegioididong.com/dtdd/samsung-galaxy-s23-ultra/danh-gia?page=6\n",
      "Trang 6 không có thẻ <span class='active'>, dừng cào cho link này.\n"
     ]
    },
    {
     "name": "stderr",
     "output_type": "stream",
     "text": [
      "The chromedriver version (127.0.6533.88) detected in PATH at C:\\webDriver\\chromedriver.exe might not be compatible with the detected chrome version (128.0.6613.138); currently, chromedriver 128.0.6613.137 is recommended for chrome 128.*, so it is advised to delete the driver in PATH and retry\n"
     ]
    },
    {
     "name": "stdout",
     "output_type": "stream",
     "text": [
      "Đang mở: https://www.thegioididong.com/dtdd/samsung-galaxy-z-flip6/danh-gia?page=1\n",
      "Thẻ <ul class='comment-list'> tồn tại.\n",
      "Đang mở: https://www.thegioididong.com/dtdd/samsung-galaxy-z-flip6/danh-gia?page=2\n",
      "Trang 2 không có thẻ <span class='active'>, dừng cào cho link này.\n"
     ]
    },
    {
     "name": "stderr",
     "output_type": "stream",
     "text": [
      "The chromedriver version (127.0.6533.88) detected in PATH at C:\\webDriver\\chromedriver.exe might not be compatible with the detected chrome version (128.0.6613.138); currently, chromedriver 128.0.6613.137 is recommended for chrome 128.*, so it is advised to delete the driver in PATH and retry\n"
     ]
    },
    {
     "name": "stdout",
     "output_type": "stream",
     "text": [
      "Đang mở: https://www.thegioididong.com/dtdd/vivo-y28/danh-gia?page=1\n",
      "Thẻ <ul class='comment-list'> tồn tại.\n",
      "Đang mở: https://www.thegioididong.com/dtdd/vivo-y28/danh-gia?page=2\n",
      "Trang 2 không có thẻ <span class='active'>, dừng cào cho link này.\n"
     ]
    },
    {
     "name": "stderr",
     "output_type": "stream",
     "text": [
      "The chromedriver version (127.0.6533.88) detected in PATH at C:\\webDriver\\chromedriver.exe might not be compatible with the detected chrome version (128.0.6613.138); currently, chromedriver 128.0.6613.137 is recommended for chrome 128.*, so it is advised to delete the driver in PATH and retry\n"
     ]
    },
    {
     "name": "stdout",
     "output_type": "stream",
     "text": [
      "Đang mở: https://www.thegioididong.com/dtdd/samsung-galaxy-m15-5g-4gb/danh-gia?page=1\n",
      "Thẻ <ul class='comment-list'> tồn tại.\n",
      "Đang mở: https://www.thegioididong.com/dtdd/samsung-galaxy-m15-5g-4gb/danh-gia?page=2\n",
      "Trang 2 không có thẻ <span class='active'>, dừng cào cho link này.\n"
     ]
    },
    {
     "name": "stderr",
     "output_type": "stream",
     "text": [
      "The chromedriver version (127.0.6533.88) detected in PATH at C:\\webDriver\\chromedriver.exe might not be compatible with the detected chrome version (128.0.6613.138); currently, chromedriver 128.0.6613.137 is recommended for chrome 128.*, so it is advised to delete the driver in PATH and retry\n"
     ]
    },
    {
     "name": "stdout",
     "output_type": "stream",
     "text": [
      "Đang mở: https://www.thegioididong.com/dtdd/samsung-galaxy-m35-5g/danh-gia?page=1\n",
      "Thẻ <ul class='comment-list'> tồn tại.\n",
      "Đang mở: https://www.thegioididong.com/dtdd/samsung-galaxy-m35-5g/danh-gia?page=2\n",
      "Trang 2 không có thẻ <span class='active'>, dừng cào cho link này.\n"
     ]
    },
    {
     "name": "stderr",
     "output_type": "stream",
     "text": [
      "The chromedriver version (127.0.6533.88) detected in PATH at C:\\webDriver\\chromedriver.exe might not be compatible with the detected chrome version (128.0.6613.138); currently, chromedriver 128.0.6613.137 is recommended for chrome 128.*, so it is advised to delete the driver in PATH and retry\n"
     ]
    },
    {
     "name": "stdout",
     "output_type": "stream",
     "text": [
      "Đang mở: https://www.thegioididong.com/dtdd/xiaomi-redmi-note-13-pro/danh-gia?page=1\n",
      "Thẻ <ul class='comment-list'> tồn tại.\n",
      "Đang mở: https://www.thegioididong.com/dtdd/xiaomi-redmi-note-13-pro/danh-gia?page=2\n",
      "Trang 2 có thẻ <span class='active'>, tiếp tục cào dữ liệu.\n",
      "Thẻ <ul class='comment-list'> tồn tại.\n",
      "Đang mở: https://www.thegioididong.com/dtdd/xiaomi-redmi-note-13-pro/danh-gia?page=3\n",
      "Trang 3 không có thẻ <span class='active'>, dừng cào cho link này.\n"
     ]
    },
    {
     "name": "stderr",
     "output_type": "stream",
     "text": [
      "The chromedriver version (127.0.6533.88) detected in PATH at C:\\webDriver\\chromedriver.exe might not be compatible with the detected chrome version (128.0.6613.138); currently, chromedriver 128.0.6613.137 is recommended for chrome 128.*, so it is advised to delete the driver in PATH and retry\n"
     ]
    },
    {
     "name": "stdout",
     "output_type": "stream",
     "text": [
      "Đang mở: https://www.thegioididong.com/dtdd/oppo-a3x-4gb-64gb/danh-gia?page=1\n",
      "Thẻ <ul class='comment-list'> tồn tại.\n",
      "Đang mở: https://www.thegioididong.com/dtdd/oppo-a3x-4gb-64gb/danh-gia?page=2\n",
      "Trang 2 không có thẻ <span class='active'>, dừng cào cho link này.\n"
     ]
    },
    {
     "name": "stderr",
     "output_type": "stream",
     "text": [
      "The chromedriver version (127.0.6533.88) detected in PATH at C:\\webDriver\\chromedriver.exe might not be compatible with the detected chrome version (128.0.6613.138); currently, chromedriver 128.0.6613.137 is recommended for chrome 128.*, so it is advised to delete the driver in PATH and retry\n"
     ]
    },
    {
     "name": "stdout",
     "output_type": "stream",
     "text": [
      "Đang mở: https://www.thegioididong.com/dtdd/xiaomi-redmi-13-6gb-128gb/danh-gia?page=1\n",
      "Thẻ <ul class='comment-list'> tồn tại.\n",
      "Đang mở: https://www.thegioididong.com/dtdd/xiaomi-redmi-13-6gb-128gb/danh-gia?page=2\n",
      "Trang 2 có thẻ <span class='active'>, tiếp tục cào dữ liệu.\n",
      "Thẻ <ul class='comment-list'> tồn tại.\n",
      "Đang mở: https://www.thegioididong.com/dtdd/xiaomi-redmi-13-6gb-128gb/danh-gia?page=3\n",
      "Trang 3 không có thẻ <span class='active'>, dừng cào cho link này.\n"
     ]
    },
    {
     "name": "stderr",
     "output_type": "stream",
     "text": [
      "The chromedriver version (127.0.6533.88) detected in PATH at C:\\webDriver\\chromedriver.exe might not be compatible with the detected chrome version (128.0.6613.138); currently, chromedriver 128.0.6613.137 is recommended for chrome 128.*, so it is advised to delete the driver in PATH and retry\n"
     ]
    },
    {
     "name": "stdout",
     "output_type": "stream",
     "text": [
      "Đang mở: https://www.thegioididong.com/dtdd/realme-note-50-64gb/danh-gia?page=1\n",
      "Thẻ <ul class='comment-list'> tồn tại.\n",
      "Đang mở: https://www.thegioididong.com/dtdd/realme-note-50-64gb/danh-gia?page=2\n",
      "Trang 2 không có thẻ <span class='active'>, dừng cào cho link này.\n"
     ]
    },
    {
     "name": "stderr",
     "output_type": "stream",
     "text": [
      "The chromedriver version (127.0.6533.88) detected in PATH at C:\\webDriver\\chromedriver.exe might not be compatible with the detected chrome version (128.0.6613.138); currently, chromedriver 128.0.6613.137 is recommended for chrome 128.*, so it is advised to delete the driver in PATH and retry\n"
     ]
    },
    {
     "name": "stdout",
     "output_type": "stream",
     "text": [
      "Đang mở: https://www.thegioididong.com/dtdd/samsung-galaxy-m54/danh-gia?page=1\n",
      "Thẻ <ul class='comment-list'> tồn tại.\n",
      "Đang mở: https://www.thegioididong.com/dtdd/samsung-galaxy-m54/danh-gia?page=2\n",
      "Trang 2 có thẻ <span class='active'>, tiếp tục cào dữ liệu.\n",
      "Thẻ <ul class='comment-list'> tồn tại.\n",
      "Đang mở: https://www.thegioididong.com/dtdd/samsung-galaxy-m54/danh-gia?page=3\n",
      "Trang 3 không có thẻ <span class='active'>, dừng cào cho link này.\n"
     ]
    },
    {
     "name": "stderr",
     "output_type": "stream",
     "text": [
      "The chromedriver version (127.0.6533.88) detected in PATH at C:\\webDriver\\chromedriver.exe might not be compatible with the detected chrome version (128.0.6613.138); currently, chromedriver 128.0.6613.137 is recommended for chrome 128.*, so it is advised to delete the driver in PATH and retry\n"
     ]
    },
    {
     "name": "stdout",
     "output_type": "stream",
     "text": [
      "Đang mở: https://www.thegioididong.com/dtdd/samsung-galaxy-s23-fe/danh-gia?page=1\n",
      "Thẻ <ul class='comment-list'> tồn tại.\n",
      "Đang mở: https://www.thegioididong.com/dtdd/samsung-galaxy-s23-fe/danh-gia?page=2\n",
      "Trang 2 có thẻ <span class='active'>, tiếp tục cào dữ liệu.\n",
      "Thẻ <ul class='comment-list'> tồn tại.\n",
      "Đang mở: https://www.thegioididong.com/dtdd/samsung-galaxy-s23-fe/danh-gia?page=3\n",
      "Trang 3 có thẻ <span class='active'>, tiếp tục cào dữ liệu.\n",
      "Thẻ <ul class='comment-list'> tồn tại.\n",
      "Đang mở: https://www.thegioididong.com/dtdd/samsung-galaxy-s23-fe/danh-gia?page=4\n",
      "Trang 4 không có thẻ <span class='active'>, dừng cào cho link này.\n"
     ]
    },
    {
     "name": "stderr",
     "output_type": "stream",
     "text": [
      "The chromedriver version (127.0.6533.88) detected in PATH at C:\\webDriver\\chromedriver.exe might not be compatible with the detected chrome version (128.0.6613.138); currently, chromedriver 128.0.6613.137 is recommended for chrome 128.*, so it is advised to delete the driver in PATH and retry\n"
     ]
    },
    {
     "name": "stdout",
     "output_type": "stream",
     "text": [
      "Đang mở: https://www.thegioididong.com/dtdd/oppo-reno11-f-5g/danh-gia?page=1\n",
      "Thẻ <ul class='comment-list'> tồn tại.\n",
      "Đang mở: https://www.thegioididong.com/dtdd/oppo-reno11-f-5g/danh-gia?page=2\n",
      "Trang 2 không có thẻ <span class='active'>, dừng cào cho link này.\n"
     ]
    },
    {
     "name": "stderr",
     "output_type": "stream",
     "text": [
      "The chromedriver version (127.0.6533.88) detected in PATH at C:\\webDriver\\chromedriver.exe might not be compatible with the detected chrome version (128.0.6613.138); currently, chromedriver 128.0.6613.137 is recommended for chrome 128.*, so it is advised to delete the driver in PATH and retry\n"
     ]
    },
    {
     "name": "stdout",
     "output_type": "stream",
     "text": [
      "Đang mở: https://www.thegioididong.com/dtdd/samsung-galaxy-a35-5g/danh-gia?page=1\n",
      "Thẻ <ul class='comment-list'> tồn tại.\n",
      "Đang mở: https://www.thegioididong.com/dtdd/samsung-galaxy-a35-5g/danh-gia?page=2\n",
      "Trang 2 không có thẻ <span class='active'>, dừng cào cho link này.\n"
     ]
    },
    {
     "name": "stderr",
     "output_type": "stream",
     "text": [
      "The chromedriver version (127.0.6533.88) detected in PATH at C:\\webDriver\\chromedriver.exe might not be compatible with the detected chrome version (128.0.6613.138); currently, chromedriver 128.0.6613.137 is recommended for chrome 128.*, so it is advised to delete the driver in PATH and retry\n"
     ]
    },
    {
     "name": "stdout",
     "output_type": "stream",
     "text": [
      "Đang mở: https://www.thegioididong.com/dtdd/oppo-a18/danh-gia?page=1\n",
      "Thẻ <ul class='comment-list'> tồn tại.\n",
      "Đang mở: https://www.thegioididong.com/dtdd/oppo-a18/danh-gia?page=2\n",
      "Trang 2 có thẻ <span class='active'>, tiếp tục cào dữ liệu.\n",
      "Thẻ <ul class='comment-list'> tồn tại.\n",
      "Đang mở: https://www.thegioididong.com/dtdd/oppo-a18/danh-gia?page=3\n",
      "Trang 3 không có thẻ <span class='active'>, dừng cào cho link này.\n"
     ]
    },
    {
     "name": "stderr",
     "output_type": "stream",
     "text": [
      "The chromedriver version (127.0.6533.88) detected in PATH at C:\\webDriver\\chromedriver.exe might not be compatible with the detected chrome version (128.0.6613.138); currently, chromedriver 128.0.6613.137 is recommended for chrome 128.*, so it is advised to delete the driver in PATH and retry\n"
     ]
    },
    {
     "name": "stdout",
     "output_type": "stream",
     "text": [
      "Đang mở: https://www.thegioididong.com/dtdd/samsung-galaxy-s24-ultra-5g/danh-gia?page=1\n",
      "Thẻ <ul class='comment-list'> tồn tại.\n",
      "Đang mở: https://www.thegioididong.com/dtdd/samsung-galaxy-s24-ultra-5g/danh-gia?page=2\n",
      "Trang 2 có thẻ <span class='active'>, tiếp tục cào dữ liệu.\n",
      "Thẻ <ul class='comment-list'> tồn tại.\n",
      "Đang mở: https://www.thegioididong.com/dtdd/samsung-galaxy-s24-ultra-5g/danh-gia?page=3\n",
      "Trang 3 có thẻ <span class='active'>, tiếp tục cào dữ liệu.\n",
      "Thẻ <ul class='comment-list'> tồn tại.\n",
      "Đang mở: https://www.thegioididong.com/dtdd/samsung-galaxy-s24-ultra-5g/danh-gia?page=4\n",
      "Trang 4 không có thẻ <span class='active'>, dừng cào cho link này.\n"
     ]
    },
    {
     "name": "stderr",
     "output_type": "stream",
     "text": [
      "The chromedriver version (127.0.6533.88) detected in PATH at C:\\webDriver\\chromedriver.exe might not be compatible with the detected chrome version (128.0.6613.138); currently, chromedriver 128.0.6613.137 is recommended for chrome 128.*, so it is advised to delete the driver in PATH and retry\n"
     ]
    },
    {
     "name": "stdout",
     "output_type": "stream",
     "text": [
      "Đang mở: https://www.thegioididong.com/dtdd/iphone-15-pro-max/danh-gia?page=1\n",
      "Thẻ <ul class='comment-list'> tồn tại.\n",
      "Đang mở: https://www.thegioididong.com/dtdd/iphone-15-pro-max/danh-gia?page=2\n",
      "Trang 2 có thẻ <span class='active'>, tiếp tục cào dữ liệu.\n",
      "Thẻ <ul class='comment-list'> tồn tại.\n",
      "Đang mở: https://www.thegioididong.com/dtdd/iphone-15-pro-max/danh-gia?page=3\n",
      "Trang 3 có thẻ <span class='active'>, tiếp tục cào dữ liệu.\n",
      "Thẻ <ul class='comment-list'> tồn tại.\n",
      "Đang mở: https://www.thegioididong.com/dtdd/iphone-15-pro-max/danh-gia?page=4\n",
      "Trang 4 có thẻ <span class='active'>, tiếp tục cào dữ liệu.\n",
      "Thẻ <ul class='comment-list'> tồn tại.\n",
      "Đang mở: https://www.thegioididong.com/dtdd/iphone-15-pro-max/danh-gia?page=5\n",
      "Trang 5 có thẻ <span class='active'>, tiếp tục cào dữ liệu.\n",
      "Thẻ <ul class='comment-list'> tồn tại.\n",
      "Đang mở: https://www.thegioididong.com/dtdd/iphone-15-pro-max/danh-gia?page=6\n",
      "Trang 6 có thẻ <span class='active'>, tiếp tục cào dữ liệu.\n",
      "Thẻ <ul class='comment-list'> tồn tại.\n",
      "Đang mở: https://www.thegioididong.com/dtdd/iphone-15-pro-max/danh-gia?page=7\n",
      "Trang 7 có thẻ <span class='active'>, tiếp tục cào dữ liệu.\n",
      "Thẻ <ul class='comment-list'> tồn tại.\n",
      "Đang mở: https://www.thegioididong.com/dtdd/iphone-15-pro-max/danh-gia?page=8\n",
      "Trang 8 không có thẻ <span class='active'>, dừng cào cho link này.\n"
     ]
    },
    {
     "name": "stderr",
     "output_type": "stream",
     "text": [
      "The chromedriver version (127.0.6533.88) detected in PATH at C:\\webDriver\\chromedriver.exe might not be compatible with the detected chrome version (128.0.6613.138); currently, chromedriver 128.0.6613.137 is recommended for chrome 128.*, so it is advised to delete the driver in PATH and retry\n"
     ]
    },
    {
     "name": "stdout",
     "output_type": "stream",
     "text": [
      "Đang mở: https://www.thegioididong.com/dtdd/iphone-15-pro/danh-gia?page=1\n",
      "Thẻ <ul class='comment-list'> tồn tại.\n",
      "Đang mở: https://www.thegioididong.com/dtdd/iphone-15-pro/danh-gia?page=2\n",
      "Trang 2 có thẻ <span class='active'>, tiếp tục cào dữ liệu.\n",
      "Thẻ <ul class='comment-list'> tồn tại.\n",
      "Đang mở: https://www.thegioididong.com/dtdd/iphone-15-pro/danh-gia?page=3\n",
      "Trang 3 không có thẻ <span class='active'>, dừng cào cho link này.\n"
     ]
    },
    {
     "name": "stderr",
     "output_type": "stream",
     "text": [
      "The chromedriver version (127.0.6533.88) detected in PATH at C:\\webDriver\\chromedriver.exe might not be compatible with the detected chrome version (128.0.6613.138); currently, chromedriver 128.0.6613.137 is recommended for chrome 128.*, so it is advised to delete the driver in PATH and retry\n"
     ]
    },
    {
     "name": "stdout",
     "output_type": "stream",
     "text": [
      "Đang mở: https://www.thegioididong.com/dtdd/xiaomi-redmi-a3/danh-gia?page=1\n",
      "Thẻ <ul class='comment-list'> tồn tại.\n",
      "Đang mở: https://www.thegioididong.com/dtdd/xiaomi-redmi-a3/danh-gia?page=2\n",
      "Trang 2 không có thẻ <span class='active'>, dừng cào cho link này.\n"
     ]
    },
    {
     "name": "stderr",
     "output_type": "stream",
     "text": [
      "The chromedriver version (127.0.6533.88) detected in PATH at C:\\webDriver\\chromedriver.exe might not be compatible with the detected chrome version (128.0.6613.138); currently, chromedriver 128.0.6613.137 is recommended for chrome 128.*, so it is advised to delete the driver in PATH and retry\n"
     ]
    },
    {
     "name": "stdout",
     "output_type": "stream",
     "text": [
      "Đang mở: https://www.thegioididong.com/dtdd/iphone-15-plus/danh-gia?page=1\n",
      "Thẻ <ul class='comment-list'> tồn tại.\n",
      "Đang mở: https://www.thegioididong.com/dtdd/iphone-15-plus/danh-gia?page=2\n",
      "Trang 2 có thẻ <span class='active'>, tiếp tục cào dữ liệu.\n",
      "Thẻ <ul class='comment-list'> tồn tại.\n",
      "Đang mở: https://www.thegioididong.com/dtdd/iphone-15-plus/danh-gia?page=3\n",
      "Trang 3 không có thẻ <span class='active'>, dừng cào cho link này.\n"
     ]
    },
    {
     "name": "stderr",
     "output_type": "stream",
     "text": [
      "The chromedriver version (127.0.6533.88) detected in PATH at C:\\webDriver\\chromedriver.exe might not be compatible with the detected chrome version (128.0.6613.138); currently, chromedriver 128.0.6613.137 is recommended for chrome 128.*, so it is advised to delete the driver in PATH and retry\n"
     ]
    },
    {
     "name": "stdout",
     "output_type": "stream",
     "text": [
      "Đang mở: https://www.thegioididong.com/dtdd/iphone-15/danh-gia?page=1\n",
      "Thẻ <ul class='comment-list'> tồn tại.\n",
      "Đang mở: https://www.thegioididong.com/dtdd/iphone-15/danh-gia?page=2\n",
      "Trang 2 có thẻ <span class='active'>, tiếp tục cào dữ liệu.\n",
      "Thẻ <ul class='comment-list'> tồn tại.\n",
      "Đang mở: https://www.thegioididong.com/dtdd/iphone-15/danh-gia?page=3\n",
      "Trang 3 không có thẻ <span class='active'>, dừng cào cho link này.\n"
     ]
    },
    {
     "name": "stderr",
     "output_type": "stream",
     "text": [
      "The chromedriver version (127.0.6533.88) detected in PATH at C:\\webDriver\\chromedriver.exe might not be compatible with the detected chrome version (128.0.6613.138); currently, chromedriver 128.0.6613.137 is recommended for chrome 128.*, so it is advised to delete the driver in PATH and retry\n"
     ]
    },
    {
     "name": "stdout",
     "output_type": "stream",
     "text": [
      "Đang mở: https://www.thegioididong.com/dtdd/vivo-y100/danh-gia?page=1\n",
      "Thẻ <ul class='comment-list'> tồn tại.\n",
      "Đang mở: https://www.thegioididong.com/dtdd/vivo-y100/danh-gia?page=2\n",
      "Trang 2 không có thẻ <span class='active'>, dừng cào cho link này.\n"
     ]
    },
    {
     "name": "stderr",
     "output_type": "stream",
     "text": [
      "The chromedriver version (127.0.6533.88) detected in PATH at C:\\webDriver\\chromedriver.exe might not be compatible with the detected chrome version (128.0.6613.138); currently, chromedriver 128.0.6613.137 is recommended for chrome 128.*, so it is advised to delete the driver in PATH and retry\n"
     ]
    },
    {
     "name": "stdout",
     "output_type": "stream",
     "text": [
      "Đang mở: https://www.thegioididong.com/dtdd/samsung-galaxy-m55-5g-12gb-256gb?utm_flashsale=1/danh-gia?page=1\n",
      "Thẻ <ul class='comment-list'> tồn tại.\n",
      "Đang mở: https://www.thegioididong.com/dtdd/samsung-galaxy-m55-5g-12gb-256gb?utm_flashsale=1/danh-gia?page=2\n",
      "Trang 2 không có thẻ <span class='active'>, dừng cào cho link này.\n"
     ]
    },
    {
     "name": "stderr",
     "output_type": "stream",
     "text": [
      "The chromedriver version (127.0.6533.88) detected in PATH at C:\\webDriver\\chromedriver.exe might not be compatible with the detected chrome version (128.0.6613.138); currently, chromedriver 128.0.6613.137 is recommended for chrome 128.*, so it is advised to delete the driver in PATH and retry\n"
     ]
    },
    {
     "name": "stdout",
     "output_type": "stream",
     "text": [
      "Đang mở: https://www.thegioididong.com/dtdd/vivo-y03/danh-gia?page=1\n",
      "Thẻ <ul class='comment-list'> tồn tại.\n",
      "Đang mở: https://www.thegioididong.com/dtdd/vivo-y03/danh-gia?page=2\n",
      "Trang 2 không có thẻ <span class='active'>, dừng cào cho link này.\n"
     ]
    },
    {
     "name": "stderr",
     "output_type": "stream",
     "text": [
      "The chromedriver version (127.0.6533.88) detected in PATH at C:\\webDriver\\chromedriver.exe might not be compatible with the detected chrome version (128.0.6613.138); currently, chromedriver 128.0.6613.137 is recommended for chrome 128.*, so it is advised to delete the driver in PATH and retry\n"
     ]
    },
    {
     "name": "stdout",
     "output_type": "stream",
     "text": [
      "Đang mở: https://www.thegioididong.com/dtdd/oppo-reno12-5g-12gb-256gb/danh-gia?page=1\n",
      "Thẻ <ul class='comment-list'> tồn tại.\n",
      "Đang mở: https://www.thegioididong.com/dtdd/oppo-reno12-5g-12gb-256gb/danh-gia?page=2\n",
      "Trang 2 không có thẻ <span class='active'>, dừng cào cho link này.\n"
     ]
    },
    {
     "name": "stderr",
     "output_type": "stream",
     "text": [
      "The chromedriver version (127.0.6533.88) detected in PATH at C:\\webDriver\\chromedriver.exe might not be compatible with the detected chrome version (128.0.6613.138); currently, chromedriver 128.0.6613.137 is recommended for chrome 128.*, so it is advised to delete the driver in PATH and retry\n"
     ]
    },
    {
     "name": "stdout",
     "output_type": "stream",
     "text": [
      "Đang mở: https://www.thegioididong.com/dtdd/oppo-reno12-f-5g-12gb-256gb/danh-gia?page=1\n",
      "Thẻ <ul class='comment-list'> tồn tại.\n",
      "Đang mở: https://www.thegioididong.com/dtdd/oppo-reno12-f-5g-12gb-256gb/danh-gia?page=2\n",
      "Trang 2 không có thẻ <span class='active'>, dừng cào cho link này.\n"
     ]
    },
    {
     "name": "stderr",
     "output_type": "stream",
     "text": [
      "The chromedriver version (127.0.6533.88) detected in PATH at C:\\webDriver\\chromedriver.exe might not be compatible with the detected chrome version (128.0.6613.138); currently, chromedriver 128.0.6613.137 is recommended for chrome 128.*, so it is advised to delete the driver in PATH and retry\n"
     ]
    },
    {
     "name": "stdout",
     "output_type": "stream",
     "text": [
      "Đang mở: https://www.thegioididong.com/dtdd/samsung-galaxy-s24-plus-5g/danh-gia?page=1\n",
      "Thẻ <ul class='comment-list'> tồn tại.\n",
      "Đang mở: https://www.thegioididong.com/dtdd/samsung-galaxy-s24-plus-5g/danh-gia?page=2\n",
      "Trang 2 không có thẻ <span class='active'>, dừng cào cho link này.\n"
     ]
    },
    {
     "name": "stderr",
     "output_type": "stream",
     "text": [
      "The chromedriver version (127.0.6533.88) detected in PATH at C:\\webDriver\\chromedriver.exe might not be compatible with the detected chrome version (128.0.6613.138); currently, chromedriver 128.0.6613.137 is recommended for chrome 128.*, so it is advised to delete the driver in PATH and retry\n"
     ]
    },
    {
     "name": "stdout",
     "output_type": "stream",
     "text": [
      "Đang mở: https://www.thegioididong.com/dtdd/samsung-galaxy-s24-256gb-5g/danh-gia?page=1\n",
      "Thẻ <ul class='comment-list'> tồn tại.\n",
      "Đang mở: https://www.thegioididong.com/dtdd/samsung-galaxy-s24-256gb-5g/danh-gia?page=2\n",
      "Trang 2 có thẻ <span class='active'>, tiếp tục cào dữ liệu.\n",
      "Thẻ <ul class='comment-list'> tồn tại.\n",
      "Đang mở: https://www.thegioididong.com/dtdd/samsung-galaxy-s24-256gb-5g/danh-gia?page=3\n",
      "Trang 3 không có thẻ <span class='active'>, dừng cào cho link này.\n"
     ]
    },
    {
     "name": "stderr",
     "output_type": "stream",
     "text": [
      "The chromedriver version (127.0.6533.88) detected in PATH at C:\\webDriver\\chromedriver.exe might not be compatible with the detected chrome version (128.0.6613.138); currently, chromedriver 128.0.6613.137 is recommended for chrome 128.*, so it is advised to delete the driver in PATH and retry\n"
     ]
    },
    {
     "name": "stdout",
     "output_type": "stream",
     "text": [
      "Đang mở: https://www.thegioididong.com/dtdd/oppo-reno11/danh-gia?page=1\n",
      "Thẻ <ul class='comment-list'> tồn tại.\n",
      "Đang mở: https://www.thegioididong.com/dtdd/oppo-reno11/danh-gia?page=2\n",
      "Trang 2 có thẻ <span class='active'>, tiếp tục cào dữ liệu.\n",
      "Thẻ <ul class='comment-list'> tồn tại.\n",
      "Đang mở: https://www.thegioididong.com/dtdd/oppo-reno11/danh-gia?page=3\n",
      "Trang 3 có thẻ <span class='active'>, tiếp tục cào dữ liệu.\n",
      "Thẻ <ul class='comment-list'> tồn tại.\n",
      "Đang mở: https://www.thegioididong.com/dtdd/oppo-reno11/danh-gia?page=4\n",
      "Trang 4 không có thẻ <span class='active'>, dừng cào cho link này.\n"
     ]
    },
    {
     "name": "stderr",
     "output_type": "stream",
     "text": [
      "The chromedriver version (127.0.6533.88) detected in PATH at C:\\webDriver\\chromedriver.exe might not be compatible with the detected chrome version (128.0.6613.138); currently, chromedriver 128.0.6613.137 is recommended for chrome 128.*, so it is advised to delete the driver in PATH and retry\n"
     ]
    },
    {
     "name": "stdout",
     "output_type": "stream",
     "text": [
      "Đang mở: https://www.thegioididong.com/dtdd/iphone-11/danh-gia?page=1\n",
      "Thẻ <ul class='comment-list'> tồn tại.\n",
      "Đang mở: https://www.thegioididong.com/dtdd/iphone-11/danh-gia?page=2\n",
      "Trang 2 có thẻ <span class='active'>, tiếp tục cào dữ liệu.\n",
      "Thẻ <ul class='comment-list'> tồn tại.\n",
      "Đang mở: https://www.thegioididong.com/dtdd/iphone-11/danh-gia?page=3\n",
      "Trang 3 có thẻ <span class='active'>, tiếp tục cào dữ liệu.\n",
      "Thẻ <ul class='comment-list'> tồn tại.\n",
      "Đang mở: https://www.thegioididong.com/dtdd/iphone-11/danh-gia?page=4\n",
      "Trang 4 có thẻ <span class='active'>, tiếp tục cào dữ liệu.\n",
      "Thẻ <ul class='comment-list'> tồn tại.\n",
      "Đang mở: https://www.thegioididong.com/dtdd/iphone-11/danh-gia?page=5\n",
      "Trang 5 có thẻ <span class='active'>, tiếp tục cào dữ liệu.\n",
      "Thẻ <ul class='comment-list'> tồn tại.\n",
      "Đang mở: https://www.thegioididong.com/dtdd/iphone-11/danh-gia?page=6\n",
      "Trang 6 có thẻ <span class='active'>, tiếp tục cào dữ liệu.\n",
      "Thẻ <ul class='comment-list'> tồn tại.\n",
      "Đang mở: https://www.thegioididong.com/dtdd/iphone-11/danh-gia?page=7\n",
      "Trang 7 có thẻ <span class='active'>, tiếp tục cào dữ liệu.\n",
      "Thẻ <ul class='comment-list'> tồn tại.\n",
      "Đang mở: https://www.thegioididong.com/dtdd/iphone-11/danh-gia?page=8\n",
      "Trang 8 có thẻ <span class='active'>, tiếp tục cào dữ liệu.\n",
      "Thẻ <ul class='comment-list'> tồn tại.\n",
      "Đang mở: https://www.thegioididong.com/dtdd/iphone-11/danh-gia?page=9\n",
      "Trang 9 có thẻ <span class='active'>, tiếp tục cào dữ liệu.\n",
      "Thẻ <ul class='comment-list'> tồn tại.\n",
      "Đang mở: https://www.thegioididong.com/dtdd/iphone-11/danh-gia?page=10\n",
      "Trang 10 có thẻ <span class='active'>, tiếp tục cào dữ liệu.\n",
      "Thẻ <ul class='comment-list'> tồn tại.\n",
      "Đang mở: https://www.thegioididong.com/dtdd/iphone-11/danh-gia?page=11\n",
      "Trang 11 có thẻ <span class='active'>, tiếp tục cào dữ liệu.\n",
      "Thẻ <ul class='comment-list'> tồn tại.\n",
      "Đang mở: https://www.thegioididong.com/dtdd/iphone-11/danh-gia?page=12\n",
      "Trang 12 có thẻ <span class='active'>, tiếp tục cào dữ liệu.\n",
      "Thẻ <ul class='comment-list'> tồn tại.\n",
      "Đang mở: https://www.thegioididong.com/dtdd/iphone-11/danh-gia?page=13\n",
      "Trang 13 có thẻ <span class='active'>, tiếp tục cào dữ liệu.\n",
      "Thẻ <ul class='comment-list'> tồn tại.\n",
      "Đang mở: https://www.thegioididong.com/dtdd/iphone-11/danh-gia?page=14\n",
      "Trang 14 có thẻ <span class='active'>, tiếp tục cào dữ liệu.\n",
      "Thẻ <ul class='comment-list'> tồn tại.\n",
      "Đang mở: https://www.thegioididong.com/dtdd/iphone-11/danh-gia?page=15\n",
      "Trang 15 có thẻ <span class='active'>, tiếp tục cào dữ liệu.\n",
      "Thẻ <ul class='comment-list'> tồn tại.\n",
      "Đang mở: https://www.thegioididong.com/dtdd/iphone-11/danh-gia?page=16\n",
      "Trang 16 có thẻ <span class='active'>, tiếp tục cào dữ liệu.\n",
      "Thẻ <ul class='comment-list'> tồn tại.\n",
      "Đang mở: https://www.thegioididong.com/dtdd/iphone-11/danh-gia?page=17\n",
      "Trang 17 không có thẻ <span class='active'>, dừng cào cho link này.\n"
     ]
    },
    {
     "name": "stderr",
     "output_type": "stream",
     "text": [
      "The chromedriver version (127.0.6533.88) detected in PATH at C:\\webDriver\\chromedriver.exe might not be compatible with the detected chrome version (128.0.6613.138); currently, chromedriver 128.0.6613.137 is recommended for chrome 128.*, so it is advised to delete the driver in PATH and retry\n"
     ]
    },
    {
     "name": "stdout",
     "output_type": "stream",
     "text": [
      "Đang mở: https://www.thegioididong.com/dtdd/realme-c67/danh-gia?page=1\n",
      "Thẻ <ul class='comment-list'> tồn tại.\n",
      "Đang mở: https://www.thegioididong.com/dtdd/realme-c67/danh-gia?page=2\n",
      "Trang 2 không có thẻ <span class='active'>, dừng cào cho link này.\n"
     ]
    },
    {
     "name": "stderr",
     "output_type": "stream",
     "text": [
      "The chromedriver version (127.0.6533.88) detected in PATH at C:\\webDriver\\chromedriver.exe might not be compatible with the detected chrome version (128.0.6613.138); currently, chromedriver 128.0.6613.137 is recommended for chrome 128.*, so it is advised to delete the driver in PATH and retry\n"
     ]
    },
    {
     "name": "stdout",
     "output_type": "stream",
     "text": [
      "Đang mở: https://www.thegioididong.com/dtdd/iphone-12/danh-gia?page=1\n",
      "Thẻ <ul class='comment-list'> tồn tại.\n",
      "Đang mở: https://www.thegioididong.com/dtdd/iphone-12/danh-gia?page=2\n",
      "Trang 2 có thẻ <span class='active'>, tiếp tục cào dữ liệu.\n",
      "Thẻ <ul class='comment-list'> tồn tại.\n",
      "Đang mở: https://www.thegioididong.com/dtdd/iphone-12/danh-gia?page=3\n",
      "Trang 3 có thẻ <span class='active'>, tiếp tục cào dữ liệu.\n",
      "Thẻ <ul class='comment-list'> tồn tại.\n",
      "Đang mở: https://www.thegioididong.com/dtdd/iphone-12/danh-gia?page=4\n",
      "Trang 4 có thẻ <span class='active'>, tiếp tục cào dữ liệu.\n",
      "Thẻ <ul class='comment-list'> tồn tại.\n",
      "Đang mở: https://www.thegioididong.com/dtdd/iphone-12/danh-gia?page=5\n",
      "Trang 5 có thẻ <span class='active'>, tiếp tục cào dữ liệu.\n",
      "Thẻ <ul class='comment-list'> tồn tại.\n",
      "Đang mở: https://www.thegioididong.com/dtdd/iphone-12/danh-gia?page=6\n",
      "Trang 6 có thẻ <span class='active'>, tiếp tục cào dữ liệu.\n",
      "Thẻ <ul class='comment-list'> tồn tại.\n",
      "Đang mở: https://www.thegioididong.com/dtdd/iphone-12/danh-gia?page=7\n",
      "Trang 7 có thẻ <span class='active'>, tiếp tục cào dữ liệu.\n",
      "Thẻ <ul class='comment-list'> tồn tại.\n",
      "Đang mở: https://www.thegioididong.com/dtdd/iphone-12/danh-gia?page=8\n",
      "Trang 8 có thẻ <span class='active'>, tiếp tục cào dữ liệu.\n",
      "Thẻ <ul class='comment-list'> tồn tại.\n",
      "Đang mở: https://www.thegioididong.com/dtdd/iphone-12/danh-gia?page=9\n",
      "Trang 9 có thẻ <span class='active'>, tiếp tục cào dữ liệu.\n",
      "Thẻ <ul class='comment-list'> tồn tại.\n",
      "Đang mở: https://www.thegioididong.com/dtdd/iphone-12/danh-gia?page=10\n",
      "Trang 10 có thẻ <span class='active'>, tiếp tục cào dữ liệu.\n",
      "Thẻ <ul class='comment-list'> tồn tại.\n",
      "Đang mở: https://www.thegioididong.com/dtdd/iphone-12/danh-gia?page=11\n",
      "Trang 11 có thẻ <span class='active'>, tiếp tục cào dữ liệu.\n",
      "Thẻ <ul class='comment-list'> tồn tại.\n",
      "Đang mở: https://www.thegioididong.com/dtdd/iphone-12/danh-gia?page=12\n",
      "Trang 12 có thẻ <span class='active'>, tiếp tục cào dữ liệu.\n",
      "Thẻ <ul class='comment-list'> tồn tại.\n",
      "Đang mở: https://www.thegioididong.com/dtdd/iphone-12/danh-gia?page=13\n",
      "Trang 13 không có thẻ <span class='active'>, dừng cào cho link này.\n"
     ]
    },
    {
     "name": "stderr",
     "output_type": "stream",
     "text": [
      "The chromedriver version (127.0.6533.88) detected in PATH at C:\\webDriver\\chromedriver.exe might not be compatible with the detected chrome version (128.0.6613.138); currently, chromedriver 128.0.6613.137 is recommended for chrome 128.*, so it is advised to delete the driver in PATH and retry\n"
     ]
    },
    {
     "name": "stdout",
     "output_type": "stream",
     "text": [
      "Đang mở: https://www.thegioididong.com/dtdd/realme-c53/danh-gia?page=1\n",
      "Thẻ <ul class='comment-list'> tồn tại.\n",
      "Đang mở: https://www.thegioididong.com/dtdd/realme-c53/danh-gia?page=2\n",
      "Trang 2 có thẻ <span class='active'>, tiếp tục cào dữ liệu.\n",
      "Thẻ <ul class='comment-list'> tồn tại.\n",
      "Đang mở: https://www.thegioididong.com/dtdd/realme-c53/danh-gia?page=3\n",
      "Trang 3 có thẻ <span class='active'>, tiếp tục cào dữ liệu.\n",
      "Thẻ <ul class='comment-list'> tồn tại.\n",
      "Đang mở: https://www.thegioididong.com/dtdd/realme-c53/danh-gia?page=4\n",
      "Trang 4 có thẻ <span class='active'>, tiếp tục cào dữ liệu.\n",
      "Thẻ <ul class='comment-list'> tồn tại.\n",
      "Đang mở: https://www.thegioididong.com/dtdd/realme-c53/danh-gia?page=5\n",
      "Trang 5 có thẻ <span class='active'>, tiếp tục cào dữ liệu.\n",
      "Thẻ <ul class='comment-list'> tồn tại.\n",
      "Đang mở: https://www.thegioididong.com/dtdd/realme-c53/danh-gia?page=6\n",
      "Trang 6 có thẻ <span class='active'>, tiếp tục cào dữ liệu.\n",
      "Thẻ <ul class='comment-list'> tồn tại.\n",
      "Đang mở: https://www.thegioididong.com/dtdd/realme-c53/danh-gia?page=7\n",
      "Trang 7 có thẻ <span class='active'>, tiếp tục cào dữ liệu.\n",
      "Thẻ <ul class='comment-list'> tồn tại.\n",
      "Đang mở: https://www.thegioididong.com/dtdd/realme-c53/danh-gia?page=8\n",
      "Trang 8 có thẻ <span class='active'>, tiếp tục cào dữ liệu.\n",
      "Thẻ <ul class='comment-list'> tồn tại.\n",
      "Đang mở: https://www.thegioididong.com/dtdd/realme-c53/danh-gia?page=9\n",
      "Trang 9 có thẻ <span class='active'>, tiếp tục cào dữ liệu.\n",
      "Thẻ <ul class='comment-list'> tồn tại.\n",
      "Đang mở: https://www.thegioididong.com/dtdd/realme-c53/danh-gia?page=10\n",
      "Trang 10 có thẻ <span class='active'>, tiếp tục cào dữ liệu.\n",
      "Thẻ <ul class='comment-list'> tồn tại.\n",
      "Đang mở: https://www.thegioididong.com/dtdd/realme-c53/danh-gia?page=11\n",
      "Trang 11 có thẻ <span class='active'>, tiếp tục cào dữ liệu.\n",
      "Thẻ <ul class='comment-list'> tồn tại.\n",
      "Đang mở: https://www.thegioididong.com/dtdd/realme-c53/danh-gia?page=12\n",
      "Trang 12 có thẻ <span class='active'>, tiếp tục cào dữ liệu.\n",
      "Thẻ <ul class='comment-list'> tồn tại.\n",
      "Đang mở: https://www.thegioididong.com/dtdd/realme-c53/danh-gia?page=13\n",
      "Trang 13 có thẻ <span class='active'>, tiếp tục cào dữ liệu.\n",
      "Thẻ <ul class='comment-list'> tồn tại.\n",
      "Đang mở: https://www.thegioididong.com/dtdd/realme-c53/danh-gia?page=14\n",
      "Trang 14 có thẻ <span class='active'>, tiếp tục cào dữ liệu.\n",
      "Thẻ <ul class='comment-list'> tồn tại.\n",
      "Đang mở: https://www.thegioididong.com/dtdd/realme-c53/danh-gia?page=15\n",
      "Trang 15 có thẻ <span class='active'>, tiếp tục cào dữ liệu.\n",
      "Thẻ <ul class='comment-list'> tồn tại.\n",
      "Đang mở: https://www.thegioididong.com/dtdd/realme-c53/danh-gia?page=16\n",
      "Trang 16 có thẻ <span class='active'>, tiếp tục cào dữ liệu.\n",
      "Thẻ <ul class='comment-list'> tồn tại.\n",
      "Đang mở: https://www.thegioididong.com/dtdd/realme-c53/danh-gia?page=17\n",
      "Trang 17 có thẻ <span class='active'>, tiếp tục cào dữ liệu.\n",
      "Thẻ <ul class='comment-list'> tồn tại.\n",
      "Đang mở: https://www.thegioididong.com/dtdd/realme-c53/danh-gia?page=18\n",
      "Trang 18 có thẻ <span class='active'>, tiếp tục cào dữ liệu.\n",
      "Thẻ <ul class='comment-list'> tồn tại.\n",
      "Đang mở: https://www.thegioididong.com/dtdd/realme-c53/danh-gia?page=19\n",
      "Trang 19 có thẻ <span class='active'>, tiếp tục cào dữ liệu.\n",
      "Thẻ <ul class='comment-list'> tồn tại.\n",
      "Đang mở: https://www.thegioididong.com/dtdd/realme-c53/danh-gia?page=20\n",
      "Trang 20 không có thẻ <span class='active'>, dừng cào cho link này.\n"
     ]
    },
    {
     "name": "stderr",
     "output_type": "stream",
     "text": [
      "The chromedriver version (127.0.6533.88) detected in PATH at C:\\webDriver\\chromedriver.exe might not be compatible with the detected chrome version (128.0.6613.138); currently, chromedriver 128.0.6613.137 is recommended for chrome 128.*, so it is advised to delete the driver in PATH and retry\n"
     ]
    },
    {
     "name": "stdout",
     "output_type": "stream",
     "text": [
      "Đang mở: https://www.thegioididong.com/dtdd/oppo-a38-6gb/danh-gia?page=1\n",
      "Thẻ <ul class='comment-list'> tồn tại.\n",
      "Đang mở: https://www.thegioididong.com/dtdd/oppo-a38-6gb/danh-gia?page=2\n",
      "Trang 2 không có thẻ <span class='active'>, dừng cào cho link này.\n"
     ]
    },
    {
     "name": "stderr",
     "output_type": "stream",
     "text": [
      "The chromedriver version (127.0.6533.88) detected in PATH at C:\\webDriver\\chromedriver.exe might not be compatible with the detected chrome version (128.0.6613.138); currently, chromedriver 128.0.6613.137 is recommended for chrome 128.*, so it is advised to delete the driver in PATH and retry\n"
     ]
    },
    {
     "name": "stdout",
     "output_type": "stream",
     "text": [
      "Đang mở: https://www.thegioididong.com/dtdd/vivo-y17s/danh-gia?page=1\n",
      "Thẻ <ul class='comment-list'> tồn tại.\n",
      "Đang mở: https://www.thegioididong.com/dtdd/vivo-y17s/danh-gia?page=2\n",
      "Trang 2 có thẻ <span class='active'>, tiếp tục cào dữ liệu.\n",
      "Thẻ <ul class='comment-list'> tồn tại.\n",
      "Đang mở: https://www.thegioididong.com/dtdd/vivo-y17s/danh-gia?page=3\n",
      "Trang 3 không có thẻ <span class='active'>, dừng cào cho link này.\n"
     ]
    },
    {
     "name": "stderr",
     "output_type": "stream",
     "text": [
      "The chromedriver version (127.0.6533.88) detected in PATH at C:\\webDriver\\chromedriver.exe might not be compatible with the detected chrome version (128.0.6613.138); currently, chromedriver 128.0.6613.137 is recommended for chrome 128.*, so it is advised to delete the driver in PATH and retry\n"
     ]
    },
    {
     "name": "stdout",
     "output_type": "stream",
     "text": [
      "Đang mở: https://www.thegioididong.com/dtdd/vivo-y36/danh-gia?page=1\n",
      "Thẻ <ul class='comment-list'> tồn tại.\n",
      "Đang mở: https://www.thegioididong.com/dtdd/vivo-y36/danh-gia?page=2\n",
      "Trang 2 có thẻ <span class='active'>, tiếp tục cào dữ liệu.\n",
      "Thẻ <ul class='comment-list'> tồn tại.\n",
      "Đang mở: https://www.thegioididong.com/dtdd/vivo-y36/danh-gia?page=3\n",
      "Trang 3 có thẻ <span class='active'>, tiếp tục cào dữ liệu.\n",
      "Thẻ <ul class='comment-list'> tồn tại.\n",
      "Đang mở: https://www.thegioididong.com/dtdd/vivo-y36/danh-gia?page=4\n",
      "Trang 4 có thẻ <span class='active'>, tiếp tục cào dữ liệu.\n",
      "Thẻ <ul class='comment-list'> tồn tại.\n",
      "Đang mở: https://www.thegioididong.com/dtdd/vivo-y36/danh-gia?page=5\n",
      "Trang 5 có thẻ <span class='active'>, tiếp tục cào dữ liệu.\n",
      "Thẻ <ul class='comment-list'> tồn tại.\n",
      "Đang mở: https://www.thegioididong.com/dtdd/vivo-y36/danh-gia?page=6\n",
      "Trang 6 có thẻ <span class='active'>, tiếp tục cào dữ liệu.\n",
      "Thẻ <ul class='comment-list'> tồn tại.\n",
      "Đang mở: https://www.thegioididong.com/dtdd/vivo-y36/danh-gia?page=7\n",
      "Trang 7 có thẻ <span class='active'>, tiếp tục cào dữ liệu.\n",
      "Thẻ <ul class='comment-list'> tồn tại.\n",
      "Đang mở: https://www.thegioididong.com/dtdd/vivo-y36/danh-gia?page=8\n",
      "Trang 8 không có thẻ <span class='active'>, dừng cào cho link này.\n"
     ]
    },
    {
     "name": "stderr",
     "output_type": "stream",
     "text": [
      "The chromedriver version (127.0.6533.88) detected in PATH at C:\\webDriver\\chromedriver.exe might not be compatible with the detected chrome version (128.0.6613.138); currently, chromedriver 128.0.6613.137 is recommended for chrome 128.*, so it is advised to delete the driver in PATH and retry\n"
     ]
    },
    {
     "name": "stdout",
     "output_type": "stream",
     "text": [
      "Đang mở: https://www.thegioididong.com/dtdd/oppo-reno11-pro/danh-gia?page=1\n",
      "Thẻ <ul class='comment-list'> tồn tại.\n",
      "Đang mở: https://www.thegioididong.com/dtdd/oppo-reno11-pro/danh-gia?page=2\n",
      "Trang 2 không có thẻ <span class='active'>, dừng cào cho link này.\n"
     ]
    },
    {
     "name": "stderr",
     "output_type": "stream",
     "text": [
      "The chromedriver version (127.0.6533.88) detected in PATH at C:\\webDriver\\chromedriver.exe might not be compatible with the detected chrome version (128.0.6613.138); currently, chromedriver 128.0.6613.137 is recommended for chrome 128.*, so it is advised to delete the driver in PATH and retry\n"
     ]
    },
    {
     "name": "stdout",
     "output_type": "stream",
     "text": [
      "Đang mở: https://www.thegioididong.com/dtdd/samsung-galaxy-a25-8gb/danh-gia?page=1\n",
      "Thẻ <ul class='comment-list'> tồn tại.\n",
      "Đang mở: https://www.thegioididong.com/dtdd/samsung-galaxy-a25-8gb/danh-gia?page=2\n",
      "Trang 2 có thẻ <span class='active'>, tiếp tục cào dữ liệu.\n",
      "Thẻ <ul class='comment-list'> tồn tại.\n",
      "Đang mở: https://www.thegioididong.com/dtdd/samsung-galaxy-a25-8gb/danh-gia?page=3\n",
      "Trang 3 không có thẻ <span class='active'>, dừng cào cho link này.\n"
     ]
    },
    {
     "name": "stderr",
     "output_type": "stream",
     "text": [
      "The chromedriver version (127.0.6533.88) detected in PATH at C:\\webDriver\\chromedriver.exe might not be compatible with the detected chrome version (128.0.6613.138); currently, chromedriver 128.0.6613.137 is recommended for chrome 128.*, so it is advised to delete the driver in PATH and retry\n"
     ]
    },
    {
     "name": "stdout",
     "output_type": "stream",
     "text": [
      "Đang mở: https://www.thegioididong.com/dtdd/samsung-galaxy-a15-5g/danh-gia?page=1\n",
      "Thẻ <ul class='comment-list'> tồn tại.\n",
      "Đang mở: https://www.thegioididong.com/dtdd/samsung-galaxy-a15-5g/danh-gia?page=2\n",
      "Trang 2 có thẻ <span class='active'>, tiếp tục cào dữ liệu.\n",
      "Thẻ <ul class='comment-list'> tồn tại.\n",
      "Đang mở: https://www.thegioididong.com/dtdd/samsung-galaxy-a15-5g/danh-gia?page=3\n",
      "Trang 3 có thẻ <span class='active'>, tiếp tục cào dữ liệu.\n",
      "Thẻ <ul class='comment-list'> tồn tại.\n",
      "Đang mở: https://www.thegioididong.com/dtdd/samsung-galaxy-a15-5g/danh-gia?page=4\n",
      "Trang 4 không có thẻ <span class='active'>, dừng cào cho link này.\n"
     ]
    },
    {
     "name": "stderr",
     "output_type": "stream",
     "text": [
      "The chromedriver version (127.0.6533.88) detected in PATH at C:\\webDriver\\chromedriver.exe might not be compatible with the detected chrome version (128.0.6613.138); currently, chromedriver 128.0.6613.137 is recommended for chrome 128.*, so it is advised to delete the driver in PATH and retry\n"
     ]
    },
    {
     "name": "stdout",
     "output_type": "stream",
     "text": [
      "Đang mở: https://www.thegioididong.com/dtdd/samsung-galaxy-a15-256gb/danh-gia?page=1\n",
      "Thẻ <ul class='comment-list'> tồn tại.\n",
      "Đang mở: https://www.thegioididong.com/dtdd/samsung-galaxy-a15-256gb/danh-gia?page=2\n",
      "Trang 2 có thẻ <span class='active'>, tiếp tục cào dữ liệu.\n",
      "Thẻ <ul class='comment-list'> tồn tại.\n",
      "Đang mở: https://www.thegioididong.com/dtdd/samsung-galaxy-a15-256gb/danh-gia?page=3\n",
      "Trang 3 có thẻ <span class='active'>, tiếp tục cào dữ liệu.\n",
      "Thẻ <ul class='comment-list'> tồn tại.\n",
      "Đang mở: https://www.thegioididong.com/dtdd/samsung-galaxy-a15-256gb/danh-gia?page=4\n",
      "Trang 4 không có thẻ <span class='active'>, dừng cào cho link này.\n"
     ]
    },
    {
     "name": "stderr",
     "output_type": "stream",
     "text": [
      "The chromedriver version (127.0.6533.88) detected in PATH at C:\\webDriver\\chromedriver.exe might not be compatible with the detected chrome version (128.0.6613.138); currently, chromedriver 128.0.6613.137 is recommended for chrome 128.*, so it is advised to delete the driver in PATH and retry\n"
     ]
    },
    {
     "name": "stdout",
     "output_type": "stream",
     "text": [
      "Đang mở: https://www.thegioididong.com/dtdd/samsung-galaxy-a05s-6gb/danh-gia?page=1\n",
      "Thẻ <ul class='comment-list'> tồn tại.\n",
      "Đang mở: https://www.thegioididong.com/dtdd/samsung-galaxy-a05s-6gb/danh-gia?page=2\n",
      "Trang 2 có thẻ <span class='active'>, tiếp tục cào dữ liệu.\n",
      "Thẻ <ul class='comment-list'> tồn tại.\n",
      "Đang mở: https://www.thegioididong.com/dtdd/samsung-galaxy-a05s-6gb/danh-gia?page=3\n",
      "Trang 3 có thẻ <span class='active'>, tiếp tục cào dữ liệu.\n",
      "Thẻ <ul class='comment-list'> tồn tại.\n",
      "Đang mở: https://www.thegioididong.com/dtdd/samsung-galaxy-a05s-6gb/danh-gia?page=4\n",
      "Trang 4 không có thẻ <span class='active'>, dừng cào cho link này.\n"
     ]
    },
    {
     "name": "stderr",
     "output_type": "stream",
     "text": [
      "The chromedriver version (127.0.6533.88) detected in PATH at C:\\webDriver\\chromedriver.exe might not be compatible with the detected chrome version (128.0.6613.138); currently, chromedriver 128.0.6613.137 is recommended for chrome 128.*, so it is advised to delete the driver in PATH and retry\n"
     ]
    },
    {
     "name": "stdout",
     "output_type": "stream",
     "text": [
      "Đang mở: https://www.thegioididong.com/dtdd/samsung-galaxy-a05?utm_flashsale=1/danh-gia?page=1\n",
      "Thẻ <ul class='comment-list'> tồn tại.\n",
      "Đang mở: https://www.thegioididong.com/dtdd/samsung-galaxy-a05?utm_flashsale=1/danh-gia?page=2\n",
      "Trang 2 không có thẻ <span class='active'>, dừng cào cho link này.\n"
     ]
    },
    {
     "name": "stderr",
     "output_type": "stream",
     "text": [
      "The chromedriver version (127.0.6533.88) detected in PATH at C:\\webDriver\\chromedriver.exe might not be compatible with the detected chrome version (128.0.6613.138); currently, chromedriver 128.0.6613.137 is recommended for chrome 128.*, so it is advised to delete the driver in PATH and retry\n"
     ]
    },
    {
     "name": "stdout",
     "output_type": "stream",
     "text": [
      "Đang mở: https://www.thegioididong.com/dtdd/xiaomi-redmi-note-13-pro-5g/danh-gia?page=1\n",
      "Thẻ <ul class='comment-list'> tồn tại.\n",
      "Đang mở: https://www.thegioididong.com/dtdd/xiaomi-redmi-note-13-pro-5g/danh-gia?page=2\n",
      "Trang 2 có thẻ <span class='active'>, tiếp tục cào dữ liệu.\n",
      "Thẻ <ul class='comment-list'> tồn tại.\n",
      "Đang mở: https://www.thegioididong.com/dtdd/xiaomi-redmi-note-13-pro-5g/danh-gia?page=3\n",
      "Trang 3 có thẻ <span class='active'>, tiếp tục cào dữ liệu.\n",
      "Thẻ <ul class='comment-list'> tồn tại.\n",
      "Đang mở: https://www.thegioididong.com/dtdd/xiaomi-redmi-note-13-pro-5g/danh-gia?page=4\n",
      "Trang 4 có thẻ <span class='active'>, tiếp tục cào dữ liệu.\n",
      "Thẻ <ul class='comment-list'> tồn tại.\n",
      "Đang mở: https://www.thegioididong.com/dtdd/xiaomi-redmi-note-13-pro-5g/danh-gia?page=5\n",
      "Trang 5 có thẻ <span class='active'>, tiếp tục cào dữ liệu.\n",
      "Thẻ <ul class='comment-list'> tồn tại.\n",
      "Đang mở: https://www.thegioididong.com/dtdd/xiaomi-redmi-note-13-pro-5g/danh-gia?page=6\n",
      "Trang 6 có thẻ <span class='active'>, tiếp tục cào dữ liệu.\n",
      "Thẻ <ul class='comment-list'> tồn tại.\n",
      "Đang mở: https://www.thegioididong.com/dtdd/xiaomi-redmi-note-13-pro-5g/danh-gia?page=7\n",
      "Trang 7 không có thẻ <span class='active'>, dừng cào cho link này.\n"
     ]
    },
    {
     "name": "stderr",
     "output_type": "stream",
     "text": [
      "The chromedriver version (127.0.6533.88) detected in PATH at C:\\webDriver\\chromedriver.exe might not be compatible with the detected chrome version (128.0.6613.138); currently, chromedriver 128.0.6613.137 is recommended for chrome 128.*, so it is advised to delete the driver in PATH and retry\n"
     ]
    },
    {
     "name": "stdout",
     "output_type": "stream",
     "text": [
      "Đang mở: https://www.thegioididong.com/dtdd/oppo-reno10-pro-plus/danh-gia?page=1\n",
      "Thẻ <ul class='comment-list'> tồn tại.\n",
      "Đang mở: https://www.thegioididong.com/dtdd/oppo-reno10-pro-plus/danh-gia?page=2\n",
      "Trang 2 không có thẻ <span class='active'>, dừng cào cho link này.\n"
     ]
    },
    {
     "name": "stderr",
     "output_type": "stream",
     "text": [
      "The chromedriver version (127.0.6533.88) detected in PATH at C:\\webDriver\\chromedriver.exe might not be compatible with the detected chrome version (128.0.6613.138); currently, chromedriver 128.0.6613.137 is recommended for chrome 128.*, so it is advised to delete the driver in PATH and retry\n"
     ]
    },
    {
     "name": "stdout",
     "output_type": "stream",
     "text": [
      "Đang mở: https://www.thegioididong.com/dtdd/xiaomi-14/danh-gia?page=1\n",
      "Thẻ <ul class='comment-list'> tồn tại.\n",
      "Đang mở: https://www.thegioididong.com/dtdd/xiaomi-14/danh-gia?page=2\n",
      "Trang 2 không có thẻ <span class='active'>, dừng cào cho link này.\n"
     ]
    },
    {
     "name": "stderr",
     "output_type": "stream",
     "text": [
      "The chromedriver version (127.0.6533.88) detected in PATH at C:\\webDriver\\chromedriver.exe might not be compatible with the detected chrome version (128.0.6613.138); currently, chromedriver 128.0.6613.137 is recommended for chrome 128.*, so it is advised to delete the driver in PATH and retry\n"
     ]
    },
    {
     "name": "stdout",
     "output_type": "stream",
     "text": [
      "Đang mở: https://www.thegioididong.com/dtdd/masstel-fami-50/danh-gia?page=1\n",
      "Thẻ <ul class='comment-list'> tồn tại.\n",
      "Đang mở: https://www.thegioididong.com/dtdd/masstel-fami-50/danh-gia?page=2\n",
      "Trang 2 không có thẻ <span class='active'>, dừng cào cho link này.\n"
     ]
    },
    {
     "name": "stderr",
     "output_type": "stream",
     "text": [
      "The chromedriver version (127.0.6533.88) detected in PATH at C:\\webDriver\\chromedriver.exe might not be compatible with the detected chrome version (128.0.6613.138); currently, chromedriver 128.0.6613.137 is recommended for chrome 128.*, so it is advised to delete the driver in PATH and retry\n"
     ]
    },
    {
     "name": "stdout",
     "output_type": "stream",
     "text": [
      "Đang mở: https://www.thegioididong.com/dtdd/masstel-izi-t6/danh-gia?page=1\n",
      "Thẻ <ul class='comment-list'> tồn tại.\n",
      "Đang mở: https://www.thegioididong.com/dtdd/masstel-izi-t6/danh-gia?page=2\n",
      "Trang 2 không có thẻ <span class='active'>, dừng cào cho link này.\n"
     ]
    },
    {
     "name": "stderr",
     "output_type": "stream",
     "text": [
      "The chromedriver version (127.0.6533.88) detected in PATH at C:\\webDriver\\chromedriver.exe might not be compatible with the detected chrome version (128.0.6613.138); currently, chromedriver 128.0.6613.137 is recommended for chrome 128.*, so it is advised to delete the driver in PATH and retry\n"
     ]
    },
    {
     "name": "stdout",
     "output_type": "stream",
     "text": [
      "Đang mở: https://www.thegioididong.com/dtdd/masstel-izi-10/danh-gia?page=1\n",
      "Thẻ <ul class='comment-list'> tồn tại.\n",
      "Đang mở: https://www.thegioididong.com/dtdd/masstel-izi-10/danh-gia?page=2\n",
      "Trang 2 có thẻ <span class='active'>, tiếp tục cào dữ liệu.\n",
      "Thẻ <ul class='comment-list'> tồn tại.\n",
      "Đang mở: https://www.thegioididong.com/dtdd/masstel-izi-10/danh-gia?page=3\n",
      "Trang 3 có thẻ <span class='active'>, tiếp tục cào dữ liệu.\n",
      "Thẻ <ul class='comment-list'> tồn tại.\n",
      "Đang mở: https://www.thegioididong.com/dtdd/masstel-izi-10/danh-gia?page=4\n",
      "Trang 4 có thẻ <span class='active'>, tiếp tục cào dữ liệu.\n",
      "Thẻ <ul class='comment-list'> tồn tại.\n",
      "Đang mở: https://www.thegioididong.com/dtdd/masstel-izi-10/danh-gia?page=5\n",
      "Trang 5 có thẻ <span class='active'>, tiếp tục cào dữ liệu.\n",
      "Thẻ <ul class='comment-list'> tồn tại.\n",
      "Đang mở: https://www.thegioididong.com/dtdd/masstel-izi-10/danh-gia?page=6\n",
      "Trang 6 có thẻ <span class='active'>, tiếp tục cào dữ liệu.\n",
      "Thẻ <ul class='comment-list'> tồn tại.\n",
      "Đang mở: https://www.thegioididong.com/dtdd/masstel-izi-10/danh-gia?page=7\n",
      "Trang 7 có thẻ <span class='active'>, tiếp tục cào dữ liệu.\n",
      "Thẻ <ul class='comment-list'> tồn tại.\n",
      "Đang mở: https://www.thegioididong.com/dtdd/masstel-izi-10/danh-gia?page=8\n",
      "Trang 8 có thẻ <span class='active'>, tiếp tục cào dữ liệu.\n",
      "Thẻ <ul class='comment-list'> tồn tại.\n",
      "Đang mở: https://www.thegioididong.com/dtdd/masstel-izi-10/danh-gia?page=9\n",
      "Trang 9 có thẻ <span class='active'>, tiếp tục cào dữ liệu.\n",
      "Thẻ <ul class='comment-list'> tồn tại.\n",
      "Đang mở: https://www.thegioididong.com/dtdd/masstel-izi-10/danh-gia?page=10\n",
      "Trang 10 không có thẻ <span class='active'>, dừng cào cho link này.\n"
     ]
    },
    {
     "name": "stderr",
     "output_type": "stream",
     "text": [
      "The chromedriver version (127.0.6533.88) detected in PATH at C:\\webDriver\\chromedriver.exe might not be compatible with the detected chrome version (128.0.6613.138); currently, chromedriver 128.0.6613.137 is recommended for chrome 128.*, so it is advised to delete the driver in PATH and retry\n"
     ]
    },
    {
     "name": "stdout",
     "output_type": "stream",
     "text": [
      "Đang mở: https://www.thegioididong.com/dtdd/realme-c51/danh-gia?page=1\n",
      "Thẻ <ul class='comment-list'> tồn tại.\n",
      "Đang mở: https://www.thegioididong.com/dtdd/realme-c51/danh-gia?page=2\n",
      "Trang 2 không có thẻ <span class='active'>, dừng cào cho link này.\n"
     ]
    },
    {
     "name": "stderr",
     "output_type": "stream",
     "text": [
      "The chromedriver version (127.0.6533.88) detected in PATH at C:\\webDriver\\chromedriver.exe might not be compatible with the detected chrome version (128.0.6613.138); currently, chromedriver 128.0.6613.137 is recommended for chrome 128.*, so it is advised to delete the driver in PATH and retry\n"
     ]
    },
    {
     "name": "stdout",
     "output_type": "stream",
     "text": [
      "Đang mở: https://www.thegioididong.com/dtdd/xiaomi-14-ultra/danh-gia?page=1\n",
      "Thẻ <ul class='comment-list'> tồn tại.\n",
      "Đang mở: https://www.thegioididong.com/dtdd/xiaomi-14-ultra/danh-gia?page=2\n",
      "Trang 2 không có thẻ <span class='active'>, dừng cào cho link này.\n"
     ]
    },
    {
     "name": "stderr",
     "output_type": "stream",
     "text": [
      "The chromedriver version (127.0.6533.88) detected in PATH at C:\\webDriver\\chromedriver.exe might not be compatible with the detected chrome version (128.0.6613.138); currently, chromedriver 128.0.6613.137 is recommended for chrome 128.*, so it is advised to delete the driver in PATH and retry\n"
     ]
    },
    {
     "name": "stdout",
     "output_type": "stream",
     "text": [
      "Đang mở: https://www.thegioididong.com/dtdd/samsung-galaxy-z-fold5?utm_flashsale=1/danh-gia?page=1\n",
      "Thẻ <ul class='comment-list'> tồn tại.\n",
      "Đang mở: https://www.thegioididong.com/dtdd/samsung-galaxy-z-fold5?utm_flashsale=1/danh-gia?page=2\n",
      "Trang 2 không có thẻ <span class='active'>, dừng cào cho link này.\n"
     ]
    },
    {
     "name": "stderr",
     "output_type": "stream",
     "text": [
      "The chromedriver version (127.0.6533.88) detected in PATH at C:\\webDriver\\chromedriver.exe might not be compatible with the detected chrome version (128.0.6613.138); currently, chromedriver 128.0.6613.137 is recommended for chrome 128.*, so it is advised to delete the driver in PATH and retry\n"
     ]
    },
    {
     "name": "stdout",
     "output_type": "stream",
     "text": [
      "Đang mở: https://www.thegioididong.com/dtdd/iphone-14-plus/danh-gia?page=1\n",
      "Thẻ <ul class='comment-list'> tồn tại.\n",
      "Đang mở: https://www.thegioididong.com/dtdd/iphone-14-plus/danh-gia?page=2\n",
      "Trang 2 có thẻ <span class='active'>, tiếp tục cào dữ liệu.\n",
      "Thẻ <ul class='comment-list'> tồn tại.\n",
      "Đang mở: https://www.thegioididong.com/dtdd/iphone-14-plus/danh-gia?page=3\n",
      "Trang 3 có thẻ <span class='active'>, tiếp tục cào dữ liệu.\n",
      "Thẻ <ul class='comment-list'> tồn tại.\n",
      "Đang mở: https://www.thegioididong.com/dtdd/iphone-14-plus/danh-gia?page=4\n",
      "Trang 4 có thẻ <span class='active'>, tiếp tục cào dữ liệu.\n",
      "Thẻ <ul class='comment-list'> tồn tại.\n",
      "Đang mở: https://www.thegioididong.com/dtdd/iphone-14-plus/danh-gia?page=5\n",
      "Trang 5 có thẻ <span class='active'>, tiếp tục cào dữ liệu.\n",
      "Thẻ <ul class='comment-list'> tồn tại.\n",
      "Đang mở: https://www.thegioididong.com/dtdd/iphone-14-plus/danh-gia?page=6\n",
      "Trang 6 không có thẻ <span class='active'>, dừng cào cho link này.\n"
     ]
    },
    {
     "name": "stderr",
     "output_type": "stream",
     "text": [
      "The chromedriver version (127.0.6533.88) detected in PATH at C:\\webDriver\\chromedriver.exe might not be compatible with the detected chrome version (128.0.6613.138); currently, chromedriver 128.0.6613.137 is recommended for chrome 128.*, so it is advised to delete the driver in PATH and retry\n"
     ]
    },
    {
     "name": "stdout",
     "output_type": "stream",
     "text": [
      "Đang mở: https://www.thegioididong.com/dtdd/iphone-14/danh-gia?page=1\n",
      "Thẻ <ul class='comment-list'> tồn tại.\n",
      "Đang mở: https://www.thegioididong.com/dtdd/iphone-14/danh-gia?page=2\n",
      "Trang 2 có thẻ <span class='active'>, tiếp tục cào dữ liệu.\n",
      "Thẻ <ul class='comment-list'> tồn tại.\n",
      "Đang mở: https://www.thegioididong.com/dtdd/iphone-14/danh-gia?page=3\n",
      "Trang 3 có thẻ <span class='active'>, tiếp tục cào dữ liệu.\n",
      "Thẻ <ul class='comment-list'> tồn tại.\n",
      "Đang mở: https://www.thegioididong.com/dtdd/iphone-14/danh-gia?page=4\n",
      "Trang 4 có thẻ <span class='active'>, tiếp tục cào dữ liệu.\n",
      "Thẻ <ul class='comment-list'> tồn tại.\n",
      "Đang mở: https://www.thegioididong.com/dtdd/iphone-14/danh-gia?page=5\n",
      "Trang 5 có thẻ <span class='active'>, tiếp tục cào dữ liệu.\n",
      "Thẻ <ul class='comment-list'> tồn tại.\n",
      "Đang mở: https://www.thegioididong.com/dtdd/iphone-14/danh-gia?page=6\n",
      "Trang 6 không có thẻ <span class='active'>, dừng cào cho link này.\n"
     ]
    },
    {
     "name": "stderr",
     "output_type": "stream",
     "text": [
      "The chromedriver version (127.0.6533.88) detected in PATH at C:\\webDriver\\chromedriver.exe might not be compatible with the detected chrome version (128.0.6613.138); currently, chromedriver 128.0.6613.137 is recommended for chrome 128.*, so it is advised to delete the driver in PATH and retry\n"
     ]
    },
    {
     "name": "stdout",
     "output_type": "stream",
     "text": [
      "Đang mở: https://www.thegioididong.com/dtdd/samsung-galaxy-z-flip5/danh-gia?page=1\n",
      "Thẻ <ul class='comment-list'> tồn tại.\n",
      "Đang mở: https://www.thegioididong.com/dtdd/samsung-galaxy-z-flip5/danh-gia?page=2\n",
      "Trang 2 có thẻ <span class='active'>, tiếp tục cào dữ liệu.\n",
      "Thẻ <ul class='comment-list'> tồn tại.\n",
      "Đang mở: https://www.thegioididong.com/dtdd/samsung-galaxy-z-flip5/danh-gia?page=3\n",
      "Trang 3 không có thẻ <span class='active'>, dừng cào cho link này.\n"
     ]
    },
    {
     "name": "stderr",
     "output_type": "stream",
     "text": [
      "The chromedriver version (127.0.6533.88) detected in PATH at C:\\webDriver\\chromedriver.exe might not be compatible with the detected chrome version (128.0.6613.138); currently, chromedriver 128.0.6613.137 is recommended for chrome 128.*, so it is advised to delete the driver in PATH and retry\n"
     ]
    },
    {
     "name": "stdout",
     "output_type": "stream",
     "text": [
      "Đang mở: https://www.thegioididong.com/dtdd/iphone-13/danh-gia?page=1\n",
      "Thẻ <ul class='comment-list'> tồn tại.\n",
      "Đang mở: https://www.thegioididong.com/dtdd/iphone-13/danh-gia?page=2\n",
      "Trang 2 có thẻ <span class='active'>, tiếp tục cào dữ liệu.\n",
      "Thẻ <ul class='comment-list'> tồn tại.\n",
      "Đang mở: https://www.thegioididong.com/dtdd/iphone-13/danh-gia?page=3\n",
      "Trang 3 có thẻ <span class='active'>, tiếp tục cào dữ liệu.\n",
      "Thẻ <ul class='comment-list'> tồn tại.\n",
      "Đang mở: https://www.thegioididong.com/dtdd/iphone-13/danh-gia?page=4\n",
      "Trang 4 có thẻ <span class='active'>, tiếp tục cào dữ liệu.\n",
      "Thẻ <ul class='comment-list'> tồn tại.\n",
      "Đang mở: https://www.thegioididong.com/dtdd/iphone-13/danh-gia?page=5\n",
      "Trang 5 có thẻ <span class='active'>, tiếp tục cào dữ liệu.\n",
      "Thẻ <ul class='comment-list'> tồn tại.\n",
      "Đang mở: https://www.thegioididong.com/dtdd/iphone-13/danh-gia?page=6\n",
      "Trang 6 có thẻ <span class='active'>, tiếp tục cào dữ liệu.\n",
      "Thẻ <ul class='comment-list'> tồn tại.\n",
      "Đang mở: https://www.thegioididong.com/dtdd/iphone-13/danh-gia?page=7\n",
      "Trang 7 có thẻ <span class='active'>, tiếp tục cào dữ liệu.\n",
      "Thẻ <ul class='comment-list'> tồn tại.\n",
      "Đang mở: https://www.thegioididong.com/dtdd/iphone-13/danh-gia?page=8\n",
      "Trang 8 có thẻ <span class='active'>, tiếp tục cào dữ liệu.\n",
      "Thẻ <ul class='comment-list'> tồn tại.\n",
      "Đang mở: https://www.thegioididong.com/dtdd/iphone-13/danh-gia?page=9\n",
      "Trang 9 có thẻ <span class='active'>, tiếp tục cào dữ liệu.\n",
      "Thẻ <ul class='comment-list'> tồn tại.\n",
      "Đang mở: https://www.thegioididong.com/dtdd/iphone-13/danh-gia?page=10\n",
      "Trang 10 có thẻ <span class='active'>, tiếp tục cào dữ liệu.\n",
      "Thẻ <ul class='comment-list'> tồn tại.\n",
      "Đang mở: https://www.thegioididong.com/dtdd/iphone-13/danh-gia?page=11\n",
      "Trang 11 có thẻ <span class='active'>, tiếp tục cào dữ liệu.\n",
      "Thẻ <ul class='comment-list'> tồn tại.\n",
      "Đang mở: https://www.thegioididong.com/dtdd/iphone-13/danh-gia?page=12\n",
      "Trang 12 có thẻ <span class='active'>, tiếp tục cào dữ liệu.\n",
      "Thẻ <ul class='comment-list'> tồn tại.\n",
      "Đang mở: https://www.thegioididong.com/dtdd/iphone-13/danh-gia?page=13\n",
      "Trang 13 có thẻ <span class='active'>, tiếp tục cào dữ liệu.\n",
      "Thẻ <ul class='comment-list'> tồn tại.\n",
      "Đang mở: https://www.thegioididong.com/dtdd/iphone-13/danh-gia?page=14\n",
      "Trang 14 có thẻ <span class='active'>, tiếp tục cào dữ liệu.\n",
      "Thẻ <ul class='comment-list'> tồn tại.\n",
      "Đang mở: https://www.thegioididong.com/dtdd/iphone-13/danh-gia?page=15\n",
      "Trang 15 có thẻ <span class='active'>, tiếp tục cào dữ liệu.\n",
      "Thẻ <ul class='comment-list'> tồn tại.\n",
      "Đang mở: https://www.thegioididong.com/dtdd/iphone-13/danh-gia?page=16\n",
      "Trang 16 có thẻ <span class='active'>, tiếp tục cào dữ liệu.\n",
      "Thẻ <ul class='comment-list'> tồn tại.\n",
      "Đang mở: https://www.thegioididong.com/dtdd/iphone-13/danh-gia?page=17\n",
      "Trang 17 có thẻ <span class='active'>, tiếp tục cào dữ liệu.\n",
      "Thẻ <ul class='comment-list'> tồn tại.\n",
      "Đang mở: https://www.thegioididong.com/dtdd/iphone-13/danh-gia?page=18\n",
      "Trang 18 có thẻ <span class='active'>, tiếp tục cào dữ liệu.\n",
      "Thẻ <ul class='comment-list'> tồn tại.\n",
      "Đang mở: https://www.thegioididong.com/dtdd/iphone-13/danh-gia?page=19\n",
      "Trang 19 có thẻ <span class='active'>, tiếp tục cào dữ liệu.\n",
      "Thẻ <ul class='comment-list'> tồn tại.\n",
      "Đang mở: https://www.thegioididong.com/dtdd/iphone-13/danh-gia?page=20\n",
      "Trang 20 có thẻ <span class='active'>, tiếp tục cào dữ liệu.\n",
      "Thẻ <ul class='comment-list'> tồn tại.\n",
      "Đang mở: https://www.thegioididong.com/dtdd/iphone-13/danh-gia?page=21\n",
      "Trang 21 không có thẻ <span class='active'>, dừng cào cho link này.\n"
     ]
    },
    {
     "name": "stderr",
     "output_type": "stream",
     "text": [
      "The chromedriver version (127.0.6533.88) detected in PATH at C:\\webDriver\\chromedriver.exe might not be compatible with the detected chrome version (128.0.6613.138); currently, chromedriver 128.0.6613.137 is recommended for chrome 128.*, so it is advised to delete the driver in PATH and retry\n"
     ]
    },
    {
     "name": "stdout",
     "output_type": "stream",
     "text": [
      "Đang mở: https://www.thegioididong.com/dtdd/vivo-v30/danh-gia?page=1\n",
      "Thẻ <ul class='comment-list'> tồn tại.\n",
      "Đang mở: https://www.thegioididong.com/dtdd/vivo-v30/danh-gia?page=2\n",
      "Trang 2 không có thẻ <span class='active'>, dừng cào cho link này.\n"
     ]
    },
    {
     "name": "stderr",
     "output_type": "stream",
     "text": [
      "The chromedriver version (127.0.6533.88) detected in PATH at C:\\webDriver\\chromedriver.exe might not be compatible with the detected chrome version (128.0.6613.138); currently, chromedriver 128.0.6613.137 is recommended for chrome 128.*, so it is advised to delete the driver in PATH and retry\n"
     ]
    },
    {
     "name": "stdout",
     "output_type": "stream",
     "text": [
      "Đang mở: https://www.thegioididong.com/dtdd/samsung-galaxy-s23-fe-5g-256gb/danh-gia?page=1\n",
      "Thẻ <ul class='comment-list'> tồn tại.\n",
      "Đang mở: https://www.thegioididong.com/dtdd/samsung-galaxy-s23-fe-5g-256gb/danh-gia?page=2\n",
      "Trang 2 không có thẻ <span class='active'>, dừng cào cho link này.\n"
     ]
    },
    {
     "name": "stderr",
     "output_type": "stream",
     "text": [
      "The chromedriver version (127.0.6533.88) detected in PATH at C:\\webDriver\\chromedriver.exe might not be compatible with the detected chrome version (128.0.6613.138); currently, chromedriver 128.0.6613.137 is recommended for chrome 128.*, so it is advised to delete the driver in PATH and retry\n"
     ]
    },
    {
     "name": "stdout",
     "output_type": "stream",
     "text": [
      "Đang mở: https://www.thegioididong.com/dtdd/vivo-v29e-5g/danh-gia?page=1\n",
      "Thẻ <ul class='comment-list'> tồn tại.\n",
      "Đang mở: https://www.thegioididong.com/dtdd/vivo-v29e-5g/danh-gia?page=2\n",
      "Trang 2 không có thẻ <span class='active'>, dừng cào cho link này.\n"
     ]
    },
    {
     "name": "stderr",
     "output_type": "stream",
     "text": [
      "The chromedriver version (127.0.6533.88) detected in PATH at C:\\webDriver\\chromedriver.exe might not be compatible with the detected chrome version (128.0.6613.138); currently, chromedriver 128.0.6613.137 is recommended for chrome 128.*, so it is advised to delete the driver in PATH and retry\n"
     ]
    },
    {
     "name": "stdout",
     "output_type": "stream",
     "text": [
      "Đang mở: https://www.thegioididong.com/dtdd/vivo-v30e-12gb/danh-gia?page=1\n",
      "Thẻ <ul class='comment-list'> tồn tại.\n",
      "Đang mở: https://www.thegioididong.com/dtdd/vivo-v30e-12gb/danh-gia?page=2\n",
      "Trang 2 không có thẻ <span class='active'>, dừng cào cho link này.\n"
     ]
    },
    {
     "name": "stderr",
     "output_type": "stream",
     "text": [
      "The chromedriver version (127.0.6533.88) detected in PATH at C:\\webDriver\\chromedriver.exe might not be compatible with the detected chrome version (128.0.6613.138); currently, chromedriver 128.0.6613.137 is recommended for chrome 128.*, so it is advised to delete the driver in PATH and retry\n"
     ]
    },
    {
     "name": "stdout",
     "output_type": "stream",
     "text": [
      "Đang mở: https://www.thegioididong.com/dtdd/realme-12/danh-gia?page=1\n",
      "Thẻ <ul class='comment-list'> tồn tại.\n",
      "Đang mở: https://www.thegioididong.com/dtdd/realme-12/danh-gia?page=2\n",
      "Trang 2 không có thẻ <span class='active'>, dừng cào cho link này.\n"
     ]
    },
    {
     "name": "stderr",
     "output_type": "stream",
     "text": [
      "The chromedriver version (127.0.6533.88) detected in PATH at C:\\webDriver\\chromedriver.exe might not be compatible with the detected chrome version (128.0.6613.138); currently, chromedriver 128.0.6613.137 is recommended for chrome 128.*, so it is advised to delete the driver in PATH and retry\n"
     ]
    },
    {
     "name": "stdout",
     "output_type": "stream",
     "text": [
      "Đang mở: https://www.thegioididong.com/dtdd/oppo-a79-5g/danh-gia?page=1\n",
      "Thẻ <ul class='comment-list'> tồn tại.\n",
      "Đang mở: https://www.thegioididong.com/dtdd/oppo-a79-5g/danh-gia?page=2\n",
      "Trang 2 không có thẻ <span class='active'>, dừng cào cho link này.\n"
     ]
    },
    {
     "name": "stderr",
     "output_type": "stream",
     "text": [
      "The chromedriver version (127.0.6533.88) detected in PATH at C:\\webDriver\\chromedriver.exe might not be compatible with the detected chrome version (128.0.6613.138); currently, chromedriver 128.0.6613.137 is recommended for chrome 128.*, so it is advised to delete the driver in PATH and retry\n"
     ]
    },
    {
     "name": "stdout",
     "output_type": "stream",
     "text": [
      "Đang mở: https://www.thegioididong.com/dtdd/oppo-a78/danh-gia?page=1\n",
      "Thẻ <ul class='comment-list'> tồn tại.\n",
      "Đang mở: https://www.thegioididong.com/dtdd/oppo-a78/danh-gia?page=2\n",
      "Trang 2 có thẻ <span class='active'>, tiếp tục cào dữ liệu.\n",
      "Thẻ <ul class='comment-list'> tồn tại.\n",
      "Đang mở: https://www.thegioididong.com/dtdd/oppo-a78/danh-gia?page=3\n",
      "Trang 3 có thẻ <span class='active'>, tiếp tục cào dữ liệu.\n",
      "Thẻ <ul class='comment-list'> tồn tại.\n",
      "Đang mở: https://www.thegioididong.com/dtdd/oppo-a78/danh-gia?page=4\n",
      "Trang 4 có thẻ <span class='active'>, tiếp tục cào dữ liệu.\n",
      "Thẻ <ul class='comment-list'> tồn tại.\n",
      "Đang mở: https://www.thegioididong.com/dtdd/oppo-a78/danh-gia?page=5\n",
      "Trang 5 không có thẻ <span class='active'>, dừng cào cho link này.\n"
     ]
    },
    {
     "name": "stderr",
     "output_type": "stream",
     "text": [
      "The chromedriver version (127.0.6533.88) detected in PATH at C:\\webDriver\\chromedriver.exe might not be compatible with the detected chrome version (128.0.6613.138); currently, chromedriver 128.0.6613.137 is recommended for chrome 128.*, so it is advised to delete the driver in PATH and retry\n"
     ]
    },
    {
     "name": "stdout",
     "output_type": "stream",
     "text": [
      "Đang mở: https://www.thegioididong.com/dtdd/honor-x8b/danh-gia?page=1\n",
      "Thẻ <ul class='comment-list'> tồn tại.\n",
      "Đang mở: https://www.thegioididong.com/dtdd/honor-x8b/danh-gia?page=2\n",
      "Trang 2 có thẻ <span class='active'>, tiếp tục cào dữ liệu.\n",
      "Thẻ <ul class='comment-list'> tồn tại.\n",
      "Đang mở: https://www.thegioididong.com/dtdd/honor-x8b/danh-gia?page=3\n",
      "Trang 3 không có thẻ <span class='active'>, dừng cào cho link này.\n"
     ]
    },
    {
     "name": "stderr",
     "output_type": "stream",
     "text": [
      "The chromedriver version (127.0.6533.88) detected in PATH at C:\\webDriver\\chromedriver.exe might not be compatible with the detected chrome version (128.0.6613.138); currently, chromedriver 128.0.6613.137 is recommended for chrome 128.*, so it is advised to delete the driver in PATH and retry\n"
     ]
    },
    {
     "name": "stdout",
     "output_type": "stream",
     "text": [
      "Đang mở: https://www.thegioididong.com/dtdd/oppo-a60-128gb/danh-gia?page=1\n",
      "Thẻ <ul class='comment-list'> tồn tại.\n",
      "Đang mở: https://www.thegioididong.com/dtdd/oppo-a60-128gb/danh-gia?page=2\n",
      "Trang 2 không có thẻ <span class='active'>, dừng cào cho link này.\n"
     ]
    },
    {
     "name": "stderr",
     "output_type": "stream",
     "text": [
      "The chromedriver version (127.0.6533.88) detected in PATH at C:\\webDriver\\chromedriver.exe might not be compatible with the detected chrome version (128.0.6613.138); currently, chromedriver 128.0.6613.137 is recommended for chrome 128.*, so it is advised to delete the driver in PATH and retry\n"
     ]
    },
    {
     "name": "stdout",
     "output_type": "stream",
     "text": [
      "Đang mở: https://www.thegioididong.com/dtdd/honor-x7b/danh-gia?page=1\n",
      "Thẻ <ul class='comment-list'> tồn tại.\n",
      "Đang mở: https://www.thegioididong.com/dtdd/honor-x7b/danh-gia?page=2\n",
      "Trang 2 không có thẻ <span class='active'>, dừng cào cho link này.\n"
     ]
    },
    {
     "name": "stderr",
     "output_type": "stream",
     "text": [
      "The chromedriver version (127.0.6533.88) detected in PATH at C:\\webDriver\\chromedriver.exe might not be compatible with the detected chrome version (128.0.6613.138); currently, chromedriver 128.0.6613.137 is recommended for chrome 128.*, so it is advised to delete the driver in PATH and retry\n"
     ]
    },
    {
     "name": "stdout",
     "output_type": "stream",
     "text": [
      "Đang mở: https://www.thegioididong.com/dtdd/oppo-a58-4g/danh-gia?page=1\n",
      "Thẻ <ul class='comment-list'> tồn tại.\n",
      "Đang mở: https://www.thegioididong.com/dtdd/oppo-a58-4g/danh-gia?page=2\n",
      "Trang 2 có thẻ <span class='active'>, tiếp tục cào dữ liệu.\n",
      "Thẻ <ul class='comment-list'> tồn tại.\n",
      "Đang mở: https://www.thegioididong.com/dtdd/oppo-a58-4g/danh-gia?page=3\n",
      "Trang 3 có thẻ <span class='active'>, tiếp tục cào dữ liệu.\n",
      "Thẻ <ul class='comment-list'> tồn tại.\n",
      "Đang mở: https://www.thegioididong.com/dtdd/oppo-a58-4g/danh-gia?page=4\n",
      "Trang 4 không có thẻ <span class='active'>, dừng cào cho link này.\n"
     ]
    },
    {
     "name": "stderr",
     "output_type": "stream",
     "text": [
      "The chromedriver version (127.0.6533.88) detected in PATH at C:\\webDriver\\chromedriver.exe might not be compatible with the detected chrome version (128.0.6613.138); currently, chromedriver 128.0.6613.137 is recommended for chrome 128.*, so it is advised to delete the driver in PATH and retry\n"
     ]
    },
    {
     "name": "stdout",
     "output_type": "stream",
     "text": [
      "Đang mở: https://www.thegioididong.com/dtdd/realme-c65s-8gb-128gb/danh-gia?page=1\n",
      "Thẻ <ul class='comment-list'> tồn tại.\n",
      "Đang mở: https://www.thegioididong.com/dtdd/realme-c65s-8gb-128gb/danh-gia?page=2\n",
      "Trang 2 không có thẻ <span class='active'>, dừng cào cho link này.\n"
     ]
    },
    {
     "name": "stderr",
     "output_type": "stream",
     "text": [
      "The chromedriver version (127.0.6533.88) detected in PATH at C:\\webDriver\\chromedriver.exe might not be compatible with the detected chrome version (128.0.6613.138); currently, chromedriver 128.0.6613.137 is recommended for chrome 128.*, so it is advised to delete the driver in PATH and retry\n"
     ]
    },
    {
     "name": "stdout",
     "output_type": "stream",
     "text": [
      "Đang mở: https://www.thegioididong.com/dtdd/xiaomi-poco-m6/danh-gia?page=1\n",
      "Thẻ <ul class='comment-list'> tồn tại.\n",
      "Đang mở: https://www.thegioididong.com/dtdd/xiaomi-poco-m6/danh-gia?page=2\n",
      "Trang 2 không có thẻ <span class='active'>, dừng cào cho link này.\n"
     ]
    },
    {
     "name": "stderr",
     "output_type": "stream",
     "text": [
      "The chromedriver version (127.0.6533.88) detected in PATH at C:\\webDriver\\chromedriver.exe might not be compatible with the detected chrome version (128.0.6613.138); currently, chromedriver 128.0.6613.137 is recommended for chrome 128.*, so it is advised to delete the driver in PATH and retry\n"
     ]
    },
    {
     "name": "stdout",
     "output_type": "stream",
     "text": [
      "Đang mở: https://www.thegioididong.com/dtdd/tcl-40-nxtpaper/danh-gia?page=1\n",
      "Thẻ <ul class='comment-list'> tồn tại.\n",
      "Đang mở: https://www.thegioididong.com/dtdd/tcl-40-nxtpaper/danh-gia?page=2\n",
      "Trang 2 không có thẻ <span class='active'>, dừng cào cho link này.\n"
     ]
    },
    {
     "name": "stderr",
     "output_type": "stream",
     "text": [
      "The chromedriver version (127.0.6533.88) detected in PATH at C:\\webDriver\\chromedriver.exe might not be compatible with the detected chrome version (128.0.6613.138); currently, chromedriver 128.0.6613.137 is recommended for chrome 128.*, so it is advised to delete the driver in PATH and retry\n"
     ]
    },
    {
     "name": "stdout",
     "output_type": "stream",
     "text": [
      "Đang mở: https://www.thegioididong.com/dtdd/realme-c60/danh-gia?page=1\n",
      "Thẻ <ul class='comment-list'> tồn tại.\n",
      "Đang mở: https://www.thegioididong.com/dtdd/realme-c60/danh-gia?page=2\n",
      "Trang 2 không có thẻ <span class='active'>, dừng cào cho link này.\n"
     ]
    },
    {
     "name": "stderr",
     "output_type": "stream",
     "text": [
      "The chromedriver version (127.0.6533.88) detected in PATH at C:\\webDriver\\chromedriver.exe might not be compatible with the detected chrome version (128.0.6613.138); currently, chromedriver 128.0.6613.137 is recommended for chrome 128.*, so it is advised to delete the driver in PATH and retry\n"
     ]
    },
    {
     "name": "stdout",
     "output_type": "stream",
     "text": [
      "Đang mở: https://www.thegioididong.com/dtdd/tcl-505/danh-gia?page=1\n",
      "Thẻ <ul class='comment-list'> tồn tại.\n",
      "Đang mở: https://www.thegioididong.com/dtdd/tcl-505/danh-gia?page=2\n",
      "Trang 2 không có thẻ <span class='active'>, dừng cào cho link này.\n"
     ]
    },
    {
     "name": "stderr",
     "output_type": "stream",
     "text": [
      "The chromedriver version (127.0.6533.88) detected in PATH at C:\\webDriver\\chromedriver.exe might not be compatible with the detected chrome version (128.0.6613.138); currently, chromedriver 128.0.6613.137 is recommended for chrome 128.*, so it is advised to delete the driver in PATH and retry\n"
     ]
    },
    {
     "name": "stdout",
     "output_type": "stream",
     "text": [
      "Đang mở: https://www.thegioididong.com/dtdd/honor-x5-plus/danh-gia?page=1\n",
      "Thẻ <ul class='comment-list'> tồn tại.\n",
      "Đang mở: https://www.thegioididong.com/dtdd/honor-x5-plus/danh-gia?page=2\n",
      "Trang 2 không có thẻ <span class='active'>, dừng cào cho link này.\n"
     ]
    },
    {
     "name": "stderr",
     "output_type": "stream",
     "text": [
      "The chromedriver version (127.0.6533.88) detected in PATH at C:\\webDriver\\chromedriver.exe might not be compatible with the detected chrome version (128.0.6613.138); currently, chromedriver 128.0.6613.137 is recommended for chrome 128.*, so it is advised to delete the driver in PATH and retry\n"
     ]
    },
    {
     "name": "stdout",
     "output_type": "stream",
     "text": [
      "Đang mở: https://www.thegioididong.com/dtdd/tcl-406s/danh-gia?page=1\n",
      "Thẻ <ul class='comment-list'> tồn tại.\n",
      "Đang mở: https://www.thegioididong.com/dtdd/tcl-406s/danh-gia?page=2\n",
      "Trang 2 không có thẻ <span class='active'>, dừng cào cho link này.\n"
     ]
    },
    {
     "name": "stderr",
     "output_type": "stream",
     "text": [
      "The chromedriver version (127.0.6533.88) detected in PATH at C:\\webDriver\\chromedriver.exe might not be compatible with the detected chrome version (128.0.6613.138); currently, chromedriver 128.0.6613.137 is recommended for chrome 128.*, so it is advised to delete the driver in PATH and retry\n"
     ]
    },
    {
     "name": "stdout",
     "output_type": "stream",
     "text": [
      "Đang mở: https://www.thegioididong.com/dtdd/tecno-spark-go-2024/danh-gia?page=1\n",
      "Thẻ <ul class='comment-list'> tồn tại.\n",
      "Đang mở: https://www.thegioididong.com/dtdd/tecno-spark-go-2024/danh-gia?page=2\n",
      "Trang 2 không có thẻ <span class='active'>, dừng cào cho link này.\n"
     ]
    },
    {
     "name": "stderr",
     "output_type": "stream",
     "text": [
      "The chromedriver version (127.0.6533.88) detected in PATH at C:\\webDriver\\chromedriver.exe might not be compatible with the detected chrome version (128.0.6613.138); currently, chromedriver 128.0.6613.137 is recommended for chrome 128.*, so it is advised to delete the driver in PATH and retry\n"
     ]
    },
    {
     "name": "stdout",
     "output_type": "stream",
     "text": [
      "Đang mở: https://www.thegioididong.com/dtdd/nokia-105-4g/danh-gia?page=1\n",
      "Thẻ <ul class='comment-list'> tồn tại.\n",
      "Đang mở: https://www.thegioididong.com/dtdd/nokia-105-4g/danh-gia?page=2\n",
      "Trang 2 có thẻ <span class='active'>, tiếp tục cào dữ liệu.\n",
      "Thẻ <ul class='comment-list'> tồn tại.\n",
      "Đang mở: https://www.thegioididong.com/dtdd/nokia-105-4g/danh-gia?page=3\n",
      "Trang 3 có thẻ <span class='active'>, tiếp tục cào dữ liệu.\n",
      "Thẻ <ul class='comment-list'> tồn tại.\n",
      "Đang mở: https://www.thegioididong.com/dtdd/nokia-105-4g/danh-gia?page=4\n",
      "Trang 4 có thẻ <span class='active'>, tiếp tục cào dữ liệu.\n",
      "Thẻ <ul class='comment-list'> tồn tại.\n",
      "Đang mở: https://www.thegioididong.com/dtdd/nokia-105-4g/danh-gia?page=5\n",
      "Trang 5 có thẻ <span class='active'>, tiếp tục cào dữ liệu.\n",
      "Thẻ <ul class='comment-list'> tồn tại.\n",
      "Đang mở: https://www.thegioididong.com/dtdd/nokia-105-4g/danh-gia?page=6\n",
      "Trang 6 có thẻ <span class='active'>, tiếp tục cào dữ liệu.\n",
      "Thẻ <ul class='comment-list'> tồn tại.\n",
      "Đang mở: https://www.thegioididong.com/dtdd/nokia-105-4g/danh-gia?page=7\n",
      "Trang 7 có thẻ <span class='active'>, tiếp tục cào dữ liệu.\n",
      "Thẻ <ul class='comment-list'> tồn tại.\n",
      "Đang mở: https://www.thegioididong.com/dtdd/nokia-105-4g/danh-gia?page=8\n",
      "Trang 8 có thẻ <span class='active'>, tiếp tục cào dữ liệu.\n",
      "Thẻ <ul class='comment-list'> tồn tại.\n",
      "Đang mở: https://www.thegioididong.com/dtdd/nokia-105-4g/danh-gia?page=9\n",
      "Trang 9 có thẻ <span class='active'>, tiếp tục cào dữ liệu.\n",
      "Thẻ <ul class='comment-list'> tồn tại.\n",
      "Đang mở: https://www.thegioididong.com/dtdd/nokia-105-4g/danh-gia?page=10\n",
      "Trang 10 có thẻ <span class='active'>, tiếp tục cào dữ liệu.\n",
      "Thẻ <ul class='comment-list'> tồn tại.\n",
      "Đang mở: https://www.thegioididong.com/dtdd/nokia-105-4g/danh-gia?page=11\n",
      "Trang 11 có thẻ <span class='active'>, tiếp tục cào dữ liệu.\n",
      "Thẻ <ul class='comment-list'> tồn tại.\n",
      "Đang mở: https://www.thegioididong.com/dtdd/nokia-105-4g/danh-gia?page=12\n",
      "Trang 12 có thẻ <span class='active'>, tiếp tục cào dữ liệu.\n",
      "Thẻ <ul class='comment-list'> tồn tại.\n",
      "Đang mở: https://www.thegioididong.com/dtdd/nokia-105-4g/danh-gia?page=13\n",
      "Trang 13 không có thẻ <span class='active'>, dừng cào cho link này.\n"
     ]
    },
    {
     "name": "stderr",
     "output_type": "stream",
     "text": [
      "The chromedriver version (127.0.6533.88) detected in PATH at C:\\webDriver\\chromedriver.exe might not be compatible with the detected chrome version (128.0.6613.138); currently, chromedriver 128.0.6613.137 is recommended for chrome 128.*, so it is advised to delete the driver in PATH and retry\n"
     ]
    },
    {
     "name": "stdout",
     "output_type": "stream",
     "text": [
      "Đang mở: https://www.thegioididong.com/dtdd/mobell-rock-4/danh-gia?page=1\n",
      "Thẻ <ul class='comment-list'> tồn tại.\n",
      "Đang mở: https://www.thegioididong.com/dtdd/mobell-rock-4/danh-gia?page=2\n",
      "Trang 2 có thẻ <span class='active'>, tiếp tục cào dữ liệu.\n",
      "Thẻ <ul class='comment-list'> tồn tại.\n",
      "Đang mở: https://www.thegioididong.com/dtdd/mobell-rock-4/danh-gia?page=3\n",
      "Trang 3 có thẻ <span class='active'>, tiếp tục cào dữ liệu.\n",
      "Thẻ <ul class='comment-list'> tồn tại.\n",
      "Đang mở: https://www.thegioididong.com/dtdd/mobell-rock-4/danh-gia?page=4\n",
      "Trang 4 có thẻ <span class='active'>, tiếp tục cào dữ liệu.\n",
      "Thẻ <ul class='comment-list'> tồn tại.\n",
      "Đang mở: https://www.thegioididong.com/dtdd/mobell-rock-4/danh-gia?page=5\n",
      "Trang 5 không có thẻ <span class='active'>, dừng cào cho link này.\n"
     ]
    },
    {
     "name": "stderr",
     "output_type": "stream",
     "text": [
      "The chromedriver version (127.0.6533.88) detected in PATH at C:\\webDriver\\chromedriver.exe might not be compatible with the detected chrome version (128.0.6613.138); currently, chromedriver 128.0.6613.137 is recommended for chrome 128.*, so it is advised to delete the driver in PATH and retry\n"
     ]
    },
    {
     "name": "stdout",
     "output_type": "stream",
     "text": [
      "Đang mở: https://www.thegioididong.com/dtdd/mobell-f309/danh-gia?page=1\n",
      "Thẻ <ul class='comment-list'> tồn tại.\n",
      "Đang mở: https://www.thegioididong.com/dtdd/mobell-f309/danh-gia?page=2\n",
      "Trang 2 có thẻ <span class='active'>, tiếp tục cào dữ liệu.\n",
      "Thẻ <ul class='comment-list'> tồn tại.\n",
      "Đang mở: https://www.thegioididong.com/dtdd/mobell-f309/danh-gia?page=3\n",
      "Trang 3 không có thẻ <span class='active'>, dừng cào cho link này.\n"
     ]
    },
    {
     "name": "stderr",
     "output_type": "stream",
     "text": [
      "The chromedriver version (127.0.6533.88) detected in PATH at C:\\webDriver\\chromedriver.exe might not be compatible with the detected chrome version (128.0.6613.138); currently, chromedriver 128.0.6613.137 is recommended for chrome 128.*, so it is advised to delete the driver in PATH and retry\n"
     ]
    },
    {
     "name": "stdout",
     "output_type": "stream",
     "text": [
      "Đang mở: https://www.thegioididong.com/dtdd/mobell-m539/danh-gia?page=1\n",
      "Thẻ <ul class='comment-list'> tồn tại.\n",
      "Đang mở: https://www.thegioididong.com/dtdd/mobell-m539/danh-gia?page=2\n",
      "Trang 2 có thẻ <span class='active'>, tiếp tục cào dữ liệu.\n",
      "Thẻ <ul class='comment-list'> tồn tại.\n",
      "Đang mở: https://www.thegioididong.com/dtdd/mobell-m539/danh-gia?page=3\n",
      "Trang 3 có thẻ <span class='active'>, tiếp tục cào dữ liệu.\n",
      "Thẻ <ul class='comment-list'> tồn tại.\n",
      "Đang mở: https://www.thegioididong.com/dtdd/mobell-m539/danh-gia?page=4\n",
      "Trang 4 có thẻ <span class='active'>, tiếp tục cào dữ liệu.\n",
      "Thẻ <ul class='comment-list'> tồn tại.\n",
      "Đang mở: https://www.thegioididong.com/dtdd/mobell-m539/danh-gia?page=5\n",
      "Trang 5 không có thẻ <span class='active'>, dừng cào cho link này.\n"
     ]
    },
    {
     "name": "stderr",
     "output_type": "stream",
     "text": [
      "The chromedriver version (127.0.6533.88) detected in PATH at C:\\webDriver\\chromedriver.exe might not be compatible with the detected chrome version (128.0.6613.138); currently, chromedriver 128.0.6613.137 is recommended for chrome 128.*, so it is advised to delete the driver in PATH and retry\n"
     ]
    },
    {
     "name": "stdout",
     "output_type": "stream",
     "text": [
      "Đang mở: https://www.thegioididong.com/dtdd/masstel-fami-60s/danh-gia?page=1\n",
      "Thẻ <ul class='comment-list'> tồn tại.\n",
      "Đang mở: https://www.thegioididong.com/dtdd/masstel-fami-60s/danh-gia?page=2\n",
      "Trang 2 không có thẻ <span class='active'>, dừng cào cho link này.\n"
     ]
    },
    {
     "name": "stderr",
     "output_type": "stream",
     "text": [
      "The chromedriver version (127.0.6533.88) detected in PATH at C:\\webDriver\\chromedriver.exe might not be compatible with the detected chrome version (128.0.6613.138); currently, chromedriver 128.0.6613.137 is recommended for chrome 128.*, so it is advised to delete the driver in PATH and retry\n"
     ]
    },
    {
     "name": "stdout",
     "output_type": "stream",
     "text": [
      "Đang mở: https://www.thegioididong.com/dtdd/nokia-105-4g-pro/danh-gia?page=1\n",
      "Thẻ <ul class='comment-list'> tồn tại.\n",
      "Đang mở: https://www.thegioididong.com/dtdd/nokia-105-4g-pro/danh-gia?page=2\n",
      "Trang 2 có thẻ <span class='active'>, tiếp tục cào dữ liệu.\n",
      "Thẻ <ul class='comment-list'> tồn tại.\n",
      "Đang mở: https://www.thegioididong.com/dtdd/nokia-105-4g-pro/danh-gia?page=3\n",
      "Trang 3 không có thẻ <span class='active'>, dừng cào cho link này.\n"
     ]
    },
    {
     "name": "stderr",
     "output_type": "stream",
     "text": [
      "The chromedriver version (127.0.6533.88) detected in PATH at C:\\webDriver\\chromedriver.exe might not be compatible with the detected chrome version (128.0.6613.138); currently, chromedriver 128.0.6613.137 is recommended for chrome 128.*, so it is advised to delete the driver in PATH and retry\n"
     ]
    },
    {
     "name": "stdout",
     "output_type": "stream",
     "text": [
      "Đang mở: https://www.thegioididong.com/dtdd/mobell-f209/danh-gia?page=1\n",
      "Thẻ <ul class='comment-list'> tồn tại.\n",
      "Đang mở: https://www.thegioididong.com/dtdd/mobell-f209/danh-gia?page=2\n",
      "Trang 2 có thẻ <span class='active'>, tiếp tục cào dữ liệu.\n",
      "Thẻ <ul class='comment-list'> tồn tại.\n",
      "Đang mở: https://www.thegioididong.com/dtdd/mobell-f209/danh-gia?page=3\n",
      "Trang 3 không có thẻ <span class='active'>, dừng cào cho link này.\n"
     ]
    },
    {
     "name": "stderr",
     "output_type": "stream",
     "text": [
      "The chromedriver version (127.0.6533.88) detected in PATH at C:\\webDriver\\chromedriver.exe might not be compatible with the detected chrome version (128.0.6613.138); currently, chromedriver 128.0.6613.137 is recommended for chrome 128.*, so it is advised to delete the driver in PATH and retry\n"
     ]
    },
    {
     "name": "stdout",
     "output_type": "stream",
     "text": [
      "Đang mở: https://www.thegioididong.com/dtdd/mobell-m331/danh-gia?page=1\n",
      "Thẻ <ul class='comment-list'> tồn tại.\n",
      "Đang mở: https://www.thegioididong.com/dtdd/mobell-m331/danh-gia?page=2\n",
      "Trang 2 không có thẻ <span class='active'>, dừng cào cho link này.\n"
     ]
    },
    {
     "name": "stderr",
     "output_type": "stream",
     "text": [
      "The chromedriver version (127.0.6533.88) detected in PATH at C:\\webDriver\\chromedriver.exe might not be compatible with the detected chrome version (128.0.6613.138); currently, chromedriver 128.0.6613.137 is recommended for chrome 128.*, so it is advised to delete the driver in PATH and retry\n"
     ]
    },
    {
     "name": "stdout",
     "output_type": "stream",
     "text": [
      "Đang mở: https://www.thegioididong.com/dtdd/mobell-m239/danh-gia?page=1\n",
      "Thẻ <ul class='comment-list'> tồn tại.\n",
      "Đang mở: https://www.thegioididong.com/dtdd/mobell-m239/danh-gia?page=2\n",
      "Trang 2 có thẻ <span class='active'>, tiếp tục cào dữ liệu.\n",
      "Thẻ <ul class='comment-list'> tồn tại.\n",
      "Đang mở: https://www.thegioididong.com/dtdd/mobell-m239/danh-gia?page=3\n",
      "Trang 3 có thẻ <span class='active'>, tiếp tục cào dữ liệu.\n",
      "Thẻ <ul class='comment-list'> tồn tại.\n",
      "Đang mở: https://www.thegioididong.com/dtdd/mobell-m239/danh-gia?page=4\n",
      "Trang 4 có thẻ <span class='active'>, tiếp tục cào dữ liệu.\n",
      "Thẻ <ul class='comment-list'> tồn tại.\n",
      "Đang mở: https://www.thegioididong.com/dtdd/mobell-m239/danh-gia?page=5\n",
      "Trang 5 có thẻ <span class='active'>, tiếp tục cào dữ liệu.\n",
      "Thẻ <ul class='comment-list'> tồn tại.\n",
      "Đang mở: https://www.thegioididong.com/dtdd/mobell-m239/danh-gia?page=6\n",
      "Trang 6 có thẻ <span class='active'>, tiếp tục cào dữ liệu.\n",
      "Thẻ <ul class='comment-list'> tồn tại.\n",
      "Đang mở: https://www.thegioididong.com/dtdd/mobell-m239/danh-gia?page=7\n",
      "Trang 7 không có thẻ <span class='active'>, dừng cào cho link này.\n"
     ]
    },
    {
     "name": "stderr",
     "output_type": "stream",
     "text": [
      "The chromedriver version (127.0.6533.88) detected in PATH at C:\\webDriver\\chromedriver.exe might not be compatible with the detected chrome version (128.0.6613.138); currently, chromedriver 128.0.6613.137 is recommended for chrome 128.*, so it is advised to delete the driver in PATH and retry\n"
     ]
    },
    {
     "name": "stdout",
     "output_type": "stream",
     "text": [
      "Đang mở: https://www.thegioididong.com/dtdd/itel-it8010/danh-gia?page=1\n",
      "Thẻ <ul class='comment-list'> tồn tại.\n",
      "Đang mở: https://www.thegioididong.com/dtdd/itel-it8010/danh-gia?page=2\n",
      "Trang 2 không có thẻ <span class='active'>, dừng cào cho link này.\n"
     ]
    }
   ],
   "source": [
    "# Duyệt qua từng liên kết trong cột \"link_Phone\"\n",
    "for link in product_info.keys():\n",
    "    if pd.notna(link):  # Kiểm tra nếu link không phải là NaN\n",
    "        phone_name = product_info[link]['phone_Name']\n",
    "        phone_price = product_info[link]['phone_Price']\n",
    "        page_Index = 1  # Bắt đầu lại với page_Index = 1 cho mỗi link mới\n",
    "\n",
    "        driver = webdriver.Chrome()\n",
    "\n",
    "        while True:\n",
    "            # Thêm chuỗi \"/danh-gia?page={page_Index}\" vào cuối link\n",
    "            modified_link = f\"{link}/danh-gia?page={page_Index}\"\n",
    "            print(f\"Đang mở: {modified_link}\")  # In ra link để kiểm tra\n",
    "            \n",
    "            driver.get(modified_link)  # Mở liên kết đã chỉnh sửa\n",
    "            time.sleep(3)  # Chờ vài giây để trang tải xong\n",
    "            \n",
    "            # Điều kiện cho page_Index từ 2 trở đi\n",
    "            if page_Index > 1:\n",
    "                try:\n",
    "                    # Kiểm tra nếu thẻ <span class=\"active\"> tồn tại bên trong <div class=\"pagcomment\"> và <div class=\"pgrc\">\n",
    "                    active_span = driver.find_element(By.CSS_SELECTOR, \"div.pgrc div.pagcomment span.active\")\n",
    "                    print(f\"Trang {page_Index} có thẻ <span class='active'>, tiếp tục cào dữ liệu.\")\n",
    "                except NoSuchElementException:\n",
    "                    # Nếu không tìm thấy thẻ <span class=\"active\">, dừng việc cào và chuyển sang link tiếp theo\n",
    "                    print(f\"Trang {page_Index} không có thẻ <span class='active'>, dừng cào cho link này.\")\n",
    "                    break\n",
    "\n",
    "            # Kiểm tra sự tồn tại của thẻ <ul class=\"comment-list\">\n",
    "            try:\n",
    "                comment_list = driver.find_element(By.CSS_SELECTOR, \"ul.comment-list\")\n",
    "                print(\"Thẻ <ul class='comment-list'> tồn tại.\")\n",
    "                \n",
    "                # Duyệt qua từng thẻ <li class=\"par\"> trong comment-list\n",
    "                comments = driver.find_elements(By.CSS_SELECTOR, \"li.par\")\n",
    "                temp_data = []  # Danh sách tạm thời để lưu dữ liệu từ các bình luận trên trang này\n",
    "\n",
    "                for comment in comments:\n",
    "                    try:\n",
    "                        # 1. Lấy text từ thẻ <p class=\"cmt-top-name\">\n",
    "                        user_name = comment.find_element(By.CSS_SELECTOR, \"div.cmt-top p.cmt-top-name\").text\n",
    "                        # Nếu user_name là chuỗi rỗng, gán nó thành \"N/A\"\n",
    "                        if user_name == \"\":\n",
    "                            user_name = \"N/A\"\n",
    "                    except NoSuchElementException:\n",
    "                        user_name = \"N/A\"\n",
    "\n",
    "                    try:\n",
    "                        # 2. Lấy số lượng thẻ <i class=\"iconcmt-starbuy\">\n",
    "                        user_rating = len(comment.find_elements(By.CSS_SELECTOR, \"div.cmt-intro div.cmt-top-star i.iconcmt-starbuy\"))\n",
    "                    except NoSuchElementException:\n",
    "                        user_rating = 0\n",
    "\n",
    "                    try:\n",
    "                        # 3. Lấy text từ thẻ <p class=\"cmt-txt\">\n",
    "                        user_comment = comment.find_element(By.CSS_SELECTOR, \"div.cmt-content p.cmt-txt\").text\n",
    "                        # Nếu user_comment là chuỗi rỗng, gán nó thành \"N/A\"\n",
    "                        if user_comment == \"\":\n",
    "                            user_comment = \"N/A\"\n",
    "                    except NoSuchElementException:\n",
    "                        user_comment = \"N/A\"\n",
    "\n",
    "                    try:\n",
    "                        # 4. Lấy text từ thẻ <span class=\"cmtd dot-line\">\n",
    "                        user_time_comment = comment.find_element(By.CSS_SELECTOR, \"div.cmt-command span.cmtd.dot-line\").text\n",
    "                        # Nếu user_time_comment là chuỗi rỗng, gán nó thành \"N/A\"\n",
    "                        if user_time_comment == \"\":\n",
    "                            user_time_comment = \"N/A\"\n",
    "                        else:\n",
    "                            # Tách các từ trong chuỗi\n",
    "                            words = user_time_comment.split()\n",
    "                            # Nếu có ít hơn 2 từ, sử dụng toàn bộ chuỗi\n",
    "                            if len(words) < 2:\n",
    "                                user_time_comment = \"N/A\"\n",
    "                            else:\n",
    "                                # Lấy 2 từ cuối cùng\n",
    "                                user_time_comment = \" \".join(words[-2:])\n",
    "                    except NoSuchElementException:\n",
    "                        user_time_comment = \"N/A\"\n",
    "\n",
    "                    # Thêm dữ liệu vào danh sách tạm thời\n",
    "                    temp_data.append({\n",
    "                        \"phone_Name\": phone_name,\n",
    "                        \"phone_Price\": phone_price,\n",
    "                        \"user_Name\": user_name,\n",
    "                        \"user_Rating\": user_rating,\n",
    "                        \"user_Comment\": user_comment,\n",
    "                        \"user_Time_Comment\": user_time_comment\n",
    "                    })\n",
    "                \n",
    "                # Cập nhật DataFrame với dữ liệu từ trang này\n",
    "                df_temp = pd.DataFrame(temp_data)\n",
    "                df_result = pd.concat([df_result, df_temp], ignore_index=True)\n",
    "                df_result.to_csv(r'data\\data_Details_Phone_Comment.csv', index=False, encoding='utf-8')  # Ghi dữ liệu vào file CSV\n",
    "\n",
    "            except NoSuchElementException:\n",
    "                print(\"Thẻ <ul class='comment-list'> không tồn tại.\")\n",
    "                break  # Nếu không tìm thấy thẻ comment-list, dừng lại và chuyển sang link kế tiếp\n",
    "            \n",
    "            # Tăng chỉ số page_Index\n",
    "            page_Index += 1\n",
    "\n",
    "        # Đóng trình duyệt sau khi hoàn thành\n",
    "        driver.quit()"
   ]
  },
  {
   "cell_type": "code",
   "execution_count": null,
   "metadata": {},
   "outputs": [],
   "source": []
  }
 ],
 "metadata": {
  "kernelspec": {
   "display_name": "Python 3",
   "language": "python",
   "name": "python3"
  },
  "language_info": {
   "codemirror_mode": {
    "name": "ipython",
    "version": 3
   },
   "file_extension": ".py",
   "mimetype": "text/x-python",
   "name": "python",
   "nbconvert_exporter": "python",
   "pygments_lexer": "ipython3",
   "version": "3.9.8"
  }
 },
 "nbformat": 4,
 "nbformat_minor": 2
}
